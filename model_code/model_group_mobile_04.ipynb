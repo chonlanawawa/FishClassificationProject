{
 "cells": [
  {
   "cell_type": "code",
   "execution_count": 8,
   "metadata": {
    "id": "wcwKNvCwv_vN"
   },
   "outputs": [],
   "source": [
    "import numpy as np\n",
    "import tensorflow as tf\n",
    "from tensorflow import keras\n",
    "from keras.callbacks import EarlyStopping, ModelCheckpoint\n",
    "from tensorflow.keras.layers import Dense, Activation\n",
    "from tensorflow.keras.optimizers import Adam\n",
    "from tensorflow.keras.metrics import categorical_crossentropy\n",
    "from sklearn.metrics import classification_report\n",
    "from tensorflow.keras.preprocessing.image import ImageDataGenerator\n",
    "from tensorflow.keras.preprocessing import image\n",
    "from tensorflow.keras.models import Model\n",
    "from tensorflow.keras.layers import Dropout\n",
    "from tensorflow.keras.applications import imagenet_utils\n",
    "from sklearn.model_selection import train_test_split\n",
    "from sklearn.metrics import confusion_matrix\n",
    "import itertools\n",
    "import os\n",
    "import glob\n",
    "import shutil\n",
    "import random\n",
    "import matplotlib.pyplot as plt\n",
    "from sklearn.model_selection import train_test_split\n",
    "%matplotlib inline\n",
    "from PIL import Image, ImageFile\n",
    "import zipfile\n",
    "from tensorflow.keras.utils import Sequence\n",
    "from imblearn.over_sampling import RandomOverSampler\n",
    "from imblearn.tensorflow import balanced_batch_generator"
   ]
  },
  {
   "cell_type": "code",
   "execution_count": 9,
   "metadata": {
    "colab": {
     "base_uri": "https://localhost:8080/"
    },
    "id": "V8emhF4QwGKe",
    "outputId": "164f7626-3089-4341-eab4-35f28a347a22"
   },
   "outputs": [
    {
     "data": {
      "text/plain": [
       "['Abalistes_stellatus',\n",
       " 'Abudefduf_saxatilis',\n",
       " 'Acanthemblemaria_spinosa',\n",
       " 'Acanthochromis_polyacanthus',\n",
       " 'Acanthurus_achilles',\n",
       " 'Acanthurus_chirurgus',\n",
       " 'Acanthurus_coeruleus',\n",
       " 'Acanthurus_dussumieri',\n",
       " 'Acanthurus_japonicus',\n",
       " 'Acanthurus_leucosternon',\n",
       " 'Acanthurus_lineatus',\n",
       " 'Acanthurus_maculiceps',\n",
       " 'Acanthurus_nigricans',\n",
       " 'Acanthurus_nigrofuscus',\n",
       " 'Acanthurus_nigroris',\n",
       " 'Acanthurus_olivaceus',\n",
       " 'Acanthurus_pyroferus',\n",
       " 'Acanthurus_sohal',\n",
       " 'Acanthurus_tennenti',\n",
       " 'Acanthurus_thompsoni',\n",
       " 'Acanthurus_triostegus',\n",
       " 'Acanthurus_tristis',\n",
       " 'Acanthurus_xanthopterus',\n",
       " 'Aetobatus_narinari',\n",
       " 'Alectis_indicus',\n",
       " 'Amblyapistus_taenianotus',\n",
       " 'Amblycirrhitus_pinos',\n",
       " 'Amblyeleotris_diagonalis',\n",
       " 'Amblyeleotris_guttata',\n",
       " 'Amblyeleotris_randalli',\n",
       " 'Amblyeleotris_steinitzi',\n",
       " 'Amblyeleotris_wheeleri',\n",
       " 'Amblyglyphidodon_aureus',\n",
       " 'Amblygobius_decussatus',\n",
       " 'Amblygobius_hectori',\n",
       " 'Amblygobius_phalaena',\n",
       " 'Amblygobius_rainfordi',\n",
       " 'Amphiprion_clarkii',\n",
       " 'Amphiprion_percula+Amphiprion_ocellaris',\n",
       " 'Amphiprion_perideraion',\n",
       " 'Amphiprion_polymnus',\n",
       " 'Amphiprion_sebae',\n",
       " 'Amphirion_frenatus+Amphirion_melanopus',\n",
       " 'Anisotremus_virginicus',\n",
       " 'Antennarius spp',\n",
       " 'Antennarius_striatus',\n",
       " 'Apogon_maculatus',\n",
       " 'Apogon_nigrofasciatus',\n",
       " 'Apolemichthys_griffisi',\n",
       " 'Apolemichthys_xanthurus',\n",
       " 'Aptychotrema_rostrata',\n",
       " 'Archamia_zosterophora',\n",
       " 'Arothron_hispidus',\n",
       " 'Arothron_immaculatus',\n",
       " 'Arothron_manilensis',\n",
       " 'Arothron_mappa',\n",
       " 'Arothron_meleagris',\n",
       " 'Arothron_nigropunctatus',\n",
       " 'Arothron_stellatus',\n",
       " 'Assessor_flavissimus',\n",
       " 'Assessor_macneilli',\n",
       " 'Atelomycterus spp',\n",
       " 'Atrosalarias_fuscus',\n",
       " 'Balistapus_undulatus',\n",
       " 'Balistes_punctatus',\n",
       " 'Balistes_vetula',\n",
       " 'Balistoides_conspicillum',\n",
       " 'Balistoides_viridescens',\n",
       " 'Bodianus_bilunulatus',\n",
       " 'Bodianus_bimaculatus',\n",
       " 'Bodianus_diana',\n",
       " 'Bodianus_mesothorax',\n",
       " 'Bodianus_pulchellus',\n",
       " 'Bodianus_rufus',\n",
       " 'Bothus spp',\n",
       " 'Caesio_xanthonota',\n",
       " 'Calloplesiops_altivelis',\n",
       " 'Cantherhines_dumerili',\n",
       " 'Canthigaster_bennetti',\n",
       " 'Canthigaster_coronata',\n",
       " 'Canthigaster_jactator',\n",
       " 'Canthigaster_papua',\n",
       " 'Canthigaster_rostrata',\n",
       " 'Canthigaster_valentini',\n",
       " 'Carcharhinus_melanopterus',\n",
       " 'Centropyge_acanthops',\n",
       " 'Centropyge_argi',\n",
       " 'Centropyge_aurantonotus',\n",
       " 'Centropyge_bicolor',\n",
       " 'Centropyge_bispinosa',\n",
       " 'Centropyge_deborae',\n",
       " 'Centropyge_eibli',\n",
       " 'Centropyge_ferrugata',\n",
       " 'Centropyge_flavicauda',\n",
       " 'Centropyge_flavissima',\n",
       " 'Centropyge_heraldi',\n",
       " 'Centropyge_loricula',\n",
       " 'Centropyge_multicolor',\n",
       " 'Centropyge_multifasciata',\n",
       " 'Centropyge_potteri',\n",
       " 'Centropyge_tibicen',\n",
       " 'Centropyge_venustus',\n",
       " 'Centropyge_vroliki',\n",
       " 'Cephalopholis_argus',\n",
       " 'Cephalopholis_formosa',\n",
       " 'Cephalopholis_fulva',\n",
       " 'Cephalopholis_miniata',\n",
       " 'Cephalopholis_panamensis',\n",
       " 'Cephalopholis_polleni',\n",
       " 'Cetoscarus_bicolor',\n",
       " 'Chaetodermis_penicilligerus',\n",
       " 'Chaetodontoplus_caeruleopunctatus',\n",
       " 'Chaetodontoplus_duboulayi',\n",
       " 'Chaetodontoplus_meridithii',\n",
       " 'Chaetodon_auriga',\n",
       " 'Chaetodon_capistratus',\n",
       " 'Chaetodon_ephippium',\n",
       " 'Chaetodon_falcula',\n",
       " 'Chaetodon_lunula',\n",
       " 'Chaetodon_mertensii',\n",
       " 'Chaetodon_paucifasciatus',\n",
       " 'Chaetodon_rafflesii',\n",
       " 'Chaetodon_sedentarius',\n",
       " 'Chaetodon_semilarvatus',\n",
       " 'Chaetodon_striatus',\n",
       " 'Chaetodon_tinkeri',\n",
       " 'Chaetodon_ulietensis',\n",
       " 'Chaetodon_unimaculatus',\n",
       " 'Cheilinus_diagrammus',\n",
       " 'Chelmon_rostratus',\n",
       " 'Chiloscyllium_plagiosum',\n",
       " 'Chiloscyllium_punctatum',\n",
       " 'Choerodon_fasciatus',\n",
       " 'Chromis_amboinensis',\n",
       " 'Chromis_cyanea',\n",
       " 'Chromis_iomelas',\n",
       " 'Chromis_limbaughi',\n",
       " 'Chromis_lineata',\n",
       " 'Chromis_margaritifer',\n",
       " 'Chromis_nitida',\n",
       " 'Chromis_retrofasciata',\n",
       " 'Chromis_viridis',\n",
       " 'Chromis_xanthura',\n",
       " 'Chrysiptera_caeruleolineata',\n",
       " 'Chrysiptera_cyanea',\n",
       " 'Chrysiptera_galba',\n",
       " 'Chrysiptera_hemicyanea',\n",
       " 'Chrysiptera_parasema',\n",
       " 'Chrysiptera_rex',\n",
       " 'Chrysiptera_rollandi',\n",
       " 'Chrysiptera_springeri',\n",
       " 'Chrysiptera_starcki',\n",
       " 'Chrysiptera_talboti',\n",
       " 'Chrysiptera_taupou',\n",
       " 'Chrysiptera_tricincta',\n",
       " 'Cirrhilabrus_aurantidorsalis',\n",
       " 'Cirrhilabrus_cyanopleura',\n",
       " 'Cirrhilabrus_exquisitus',\n",
       " 'Cirrhilabrus_filamentosus',\n",
       " 'Cirrhilabrus_flavidorsalis',\n",
       " 'Cirrhilabrus_jordani',\n",
       " 'Cirrhilabrus_laboutei',\n",
       " 'Cirrhilabrus_lineatus',\n",
       " 'Cirrhilabrus_lubbocki',\n",
       " 'Cirrhilabrus_luteovittatus',\n",
       " 'Cirrhilabrus_punctatus',\n",
       " 'Cirrhilabrus_rhomboidalis',\n",
       " 'Cirrhilabrus_rubrisquamis',\n",
       " 'Cirrhilabrus_rubriventralis',\n",
       " 'Cirrhilabrus_ryukyuensis',\n",
       " 'Cirrhilabrus_scottorum',\n",
       " 'Cirrhilabrus_solorensis',\n",
       " 'Cirrhitichthys_aprinus',\n",
       " 'Cirrhitichthys_aureus',\n",
       " 'Cirrhitichthys_falco',\n",
       " 'Cirrhitichthys_oxycephalus',\n",
       " 'Cirrhitichthys_polyactis',\n",
       " 'Cirripectes_stigmaticus',\n",
       " 'Congrogadus_subducens',\n",
       " 'Coris_formosa',\n",
       " 'Coris_gaimard',\n",
       " 'Coryphopterus_glaucofraenum',\n",
       " 'Corythoichthys_haematopterus',\n",
       " 'Cromileptes_altivelis',\n",
       " 'Crossosalarias_macrospilus',\n",
       " 'Cryptocentrus_aurora',\n",
       " 'Cryptocentrus_cinctus',\n",
       " 'Cryptocentrus_pavoninoides',\n",
       " 'Ctenochaetus_binotatus',\n",
       " 'Ctenochaetus_hawaiiensis',\n",
       " 'Ctenochaetus_striatus',\n",
       " 'Ctenochaetus_strigosus',\n",
       " 'Ctenochaetus_tominiensis',\n",
       " 'Ctenogobiops_tangaroai',\n",
       " 'Cypho_purpurascens',\n",
       " 'Dascyllus_albisella',\n",
       " 'Dascyllus_auripinnis',\n",
       " 'Dascyllus_carneus',\n",
       " 'Dascyllus_flavicaudus',\n",
       " 'Dascyllus_marginatus',\n",
       " 'Dascyllus_melanurus+Dascyllus_aruanus',\n",
       " 'Dascyllus_reticulatus',\n",
       " 'Dascyllus_trimaculatus',\n",
       " 'Dendrochirus_barberi',\n",
       " 'Dendrochirus_biocellatus',\n",
       " 'Dendrochirus_brachypterus',\n",
       " 'Dendrochirus_zebra',\n",
       " 'Diademichthys_lineatus',\n",
       " 'Diodon_holocanthus',\n",
       " 'Diodon_hystrix',\n",
       " 'Diplobatis_ommata',\n",
       " 'Dischistodus_prosopotaenia',\n",
       " 'Discordipinna_griessingeri',\n",
       " 'Doryrhamphus_dactyliophorus',\n",
       " 'Doryrhamphus_janssi',\n",
       " 'Doryrhamphus_pessuliferus',\n",
       " 'Echidna_catenata',\n",
       " 'Echidna_nebulosa',\n",
       " 'Echidna_polyzona',\n",
       " 'Ecsenius_bicolor',\n",
       " 'Ecsenius_bimaculatus',\n",
       " 'Ecsenius_gravieri',\n",
       " 'Ecsenius_lineatus',\n",
       " 'Ecsenius_midas',\n",
       " 'Ecsenius_namiyei',\n",
       " 'Ecsenius_stigmatura',\n",
       " 'Elacatinus_multifasciatus',\n",
       " 'Elacatinus_oceanops',\n",
       " 'Elacatinus_puncticulatus',\n",
       " 'Emblemaria_pandionis',\n",
       " 'Enchelycore_pardalis',\n",
       " 'Enchelyurus_flavipes',\n",
       " 'Epinephelus_fasciatus',\n",
       " 'Epinephelus_flavocaeruleus',\n",
       " 'Epinephelus_summana',\n",
       " 'Eucrossorhinus_dasypogon',\n",
       " 'Eviota_pellucida',\n",
       " 'Forcipiger_flavissimus',\n",
       " 'Genicanthus_bellus',\n",
       " 'Genicanthus_semifasciatus',\n",
       " 'Ginglymostoma_cirratum',\n",
       " 'Glaucostegus_typus',\n",
       " 'Gnathanodon_speciosus',\n",
       " 'Gobiodon_acicularis',\n",
       " 'Gobiodon_atrangulatus',\n",
       " 'Gobiodon_citrinus',\n",
       " 'Gobiodon_okinawae',\n",
       " 'Gobioides_broussonnetii',\n",
       " 'Gomphosus_varius',\n",
       " 'Gramma_brasiliensis',\n",
       " 'Gramma_loreto',\n",
       " 'Gramma_melacara',\n",
       " 'Grammistes_sexlineatus',\n",
       " 'Gymnomuraena_zebra',\n",
       " 'Gymnothorax_favagineus',\n",
       " 'Gymnothorax_fimbriatus',\n",
       " 'Gymnothorax_funebris',\n",
       " 'Gymnothorax_kidako',\n",
       " 'Gymnothorax_melatremus',\n",
       " 'Gymnothorax_meleagris',\n",
       " 'Gymnothorax_miliaris',\n",
       " 'Gymnothorax_nudivomer',\n",
       " 'Gymnothorax_saxicola',\n",
       " 'Gymnura spp',\n",
       " 'Halichoeres_chloropterus',\n",
       " 'Halichoeres_chrysus',\n",
       " 'Halichoeres_hortulanus',\n",
       " 'Halichoeres_iridis',\n",
       " 'Halichoeres_melanurus',\n",
       " 'Halichoeres_trispilus',\n",
       " 'Hemiscyllium_ocellatum',\n",
       " 'Hemitrygon_akajei',\n",
       " 'Heniochus_diphreutes',\n",
       " 'Heteroconger_hassi',\n",
       " 'Heterodontus_francisci',\n",
       " 'Heterodontus_portusjacksoni',\n",
       " 'Heteropriacanthus_cruentatus',\n",
       " 'Himantura_uarnak',\n",
       " 'Hippocampus spp',\n",
       " 'Hippocampus_bargibanti',\n",
       " 'Histrio_histrio',\n",
       " 'Holacanthus_bermudensis',\n",
       " 'Holacanthus_ciliaris',\n",
       " 'Holacanthus_passer',\n",
       " 'Holacanthus_tricolor',\n",
       " 'Hoplolatilus_luteus',\n",
       " 'Hoplolatilus_marcosi',\n",
       " 'Hoplolatilus_purpureus',\n",
       " 'Hoplolatilus_starcki',\n",
       " 'Hypanus spp',\n",
       " 'Hypoplectrus_gemma',\n",
       " 'Hypoplectrus_gummigutta',\n",
       " 'Hypoplectrus_guttavarius',\n",
       " 'Hypoplectrus_indigo',\n",
       " 'Hypoplectrus_nigricans',\n",
       " 'Hypoplectrus_puella',\n",
       " 'Hypoplectrus_unicolor',\n",
       " 'Hypsypops_rubicunda',\n",
       " 'Inimicus_didactylus',\n",
       " 'Iracundus_signifer',\n",
       " 'Labracinus_cyclophthalmus',\n",
       " 'Labroides_bicolor',\n",
       " 'Labroides_dimidiatus',\n",
       " 'Labroides_phthirophagus',\n",
       " 'Lactoria_cornuta',\n",
       " 'Lutjanus_adetii',\n",
       " 'Lutjanus_sebae',\n",
       " 'Lythrypnus_dalli',\n",
       " 'Macolor_niger',\n",
       " 'Macropharyngodon_geoffroyi',\n",
       " 'Macropharyngodon_meleagris',\n",
       " 'Malacoctenus_boehlkei',\n",
       " 'Manonichthys_alleni',\n",
       " 'Meiacanthus_bundoon',\n",
       " 'Meiacanthus_grammistes',\n",
       " 'Meiacanthus_mossambicus',\n",
       " 'Meiacanthus_nigrolineatus',\n",
       " 'Meiacanthus_oualanensis',\n",
       " 'Melichthys_indicus',\n",
       " 'Melichthys_niger',\n",
       " 'Melichthys_vidua',\n",
       " 'Meuschenia_hippocrepis',\n",
       " 'Microspathodon_chrysurus',\n",
       " 'Muraena_lentiginosa',\n",
       " 'Mustelus spp',\n",
       " 'Mycteroperca_rosacea',\n",
       " 'Myliobatis spp',\n",
       " 'Myrichthys_colubrinus',\n",
       " 'Myrichthys_maculosus',\n",
       " 'Myripristis_jacobus',\n",
       " 'Myripristis_vittata',\n",
       " 'Narcine spp',\n",
       " 'Naso_lituratus',\n",
       " 'Naso_lopezi',\n",
       " 'Naso_unicornis',\n",
       " 'Naso_vlamingii',\n",
       " 'Nemateleotris_decora',\n",
       " 'Nemateleotris_magnifica',\n",
       " 'Neocirrhitus_armatus',\n",
       " 'Neoglyphidodon_crossi',\n",
       " 'Neoglyphidodon_melas',\n",
       " 'Neoglyphidodon_nigroris',\n",
       " 'Neopomacentrus_azysron',\n",
       " 'Neotrygon_kuhlii',\n",
       " 'Novaculichthys_taeniourus',\n",
       " 'Odonus_niger',\n",
       " 'Ogilbyina_novaehollandiae',\n",
       " 'Ophioblennius_atlanticus',\n",
       " 'Opistognathus_aurifrons',\n",
       " 'Opistognathus_lonchurus',\n",
       " 'Opistognathus_rosenblatti',\n",
       " 'Opistognathus_whitehurstii',\n",
       " 'Orectolobus spp',\n",
       " 'Ostorhinchus_aureus',\n",
       " 'Ostorhinchus_compressus',\n",
       " 'Ostorhinchus_cyanosoma',\n",
       " 'Ostracion_cubicus',\n",
       " 'Ostracion_solorensis',\n",
       " 'Oxycirrhites_typus',\n",
       " 'Oxymonacanthus_longirostris',\n",
       " 'Paracanthurus_hepatus',\n",
       " 'Paracheilinus_carpenteri',\n",
       " 'Paracirrhites_arcatus',\n",
       " 'Paracirrhites_forsteri',\n",
       " 'Paracirrhites_hemistictus',\n",
       " 'Paracirrhites_xanthus',\n",
       " 'Paraglyphidodon_oxyodon',\n",
       " 'Paraluteres_prionurus',\n",
       " 'Paramonacanthus_japonicus',\n",
       " 'Parapterois_heterura',\n",
       " 'Parascorpaena_mossambica',\n",
       " 'Parupeneus_barberinoides',\n",
       " 'Parupeneus_barberinus',\n",
       " 'Parupeneus_cyclostomus',\n",
       " 'Parupeneus_multifasciatus',\n",
       " 'Pastinachus_sephen',\n",
       " 'Pervagor_melanocephalus',\n",
       " 'Pervagor_spilosoma',\n",
       " 'Pholidichthys_leucotaenia',\n",
       " 'Pholidochromis_cerasina',\n",
       " 'Platax_orbicularis',\n",
       " 'Platax_pinnatus',\n",
       " 'Platax_teira',\n",
       " 'Platyrhinoidis_triseriata',\n",
       " 'Plectorhinchus_albovittatus',\n",
       " 'Plectorhinchus_chaetodonoides',\n",
       " 'Plectorhinchus_diagrammus+Plectorhinchus_orientalis',\n",
       " 'Plectorhinchus_lineatus',\n",
       " 'Plectorhinchus_picus',\n",
       " 'Plectropomus_laevis',\n",
       " 'Pogonoperca_punctata',\n",
       " 'Pomacanthus_annularis',\n",
       " 'Pomacanthus_arcuatus',\n",
       " 'Pomacanthus_asfur',\n",
       " 'Pomacanthus_imperator',\n",
       " 'Pomacanthus_maculosus',\n",
       " 'Pomacanthus_navarchus',\n",
       " 'Pomacanthus_paru',\n",
       " 'Pomacanthus_semicirculatus',\n",
       " 'Pomacanthus_xanthometopon',\n",
       " 'Pomacanthus_zonipectus',\n",
       " 'Pomacentrus_alleni',\n",
       " 'Pomacentrus_amboinensis',\n",
       " 'Pomacentrus_auriventris',\n",
       " 'Pomacentrus_bankanensis',\n",
       " 'Pomacentrus_caeruleus',\n",
       " 'Pomacentrus_moluccensis',\n",
       " 'Pomacentrus_nigromarginatus',\n",
       " 'Pomacentrus_pavo',\n",
       " 'Pomacentrus_simsiang',\n",
       " 'Pomacentrus_smithi',\n",
       " 'Pomacentrus_vaiuli',\n",
       " 'Premnas_biaculeatus',\n",
       " 'Priolepis_aureoviridis',\n",
       " 'Priolepis_nocturna',\n",
       " 'Pristigenys_serrula',\n",
       " 'Pseudanthias_bartlettorum',\n",
       " 'Pseudanthias_bicolor',\n",
       " 'Pseudanthias_cooperi',\n",
       " 'Pseudanthias_huchtii',\n",
       " 'Pseudanthias_hypselosoma',\n",
       " 'Pseudanthias_parvirostris',\n",
       " 'Pseudanthias_pleurotaenia',\n",
       " 'Pseudanthias_rubrizonatus',\n",
       " 'Pseudanthias_squamipinnis',\n",
       " 'Pseudobalistes_fuscus',\n",
       " 'Pseudobatos spp',\n",
       " 'Pseudocheilinus_evanidus',\n",
       " 'Pseudocheilinus_hexataenia',\n",
       " 'Pseudocheilinus_ocellatus',\n",
       " 'Pseudocheilinus_octotaenia',\n",
       " 'Pseudocheilinus_tetrataenia',\n",
       " 'Pseudochromis_aldabraensis',\n",
       " 'Pseudochromis_aureus',\n",
       " 'Pseudochromis_bitaeniatus',\n",
       " 'Pseudochromis_coccinicauda',\n",
       " 'Pseudochromis_cyanotaenia',\n",
       " 'Pseudochromis_diadema',\n",
       " 'Pseudochromis_dilectus',\n",
       " 'Pseudochromis_elongatus',\n",
       " 'Pseudochromis_flammicauda',\n",
       " 'Pseudochromis_flavivertex',\n",
       " 'Pseudochromis_fridmani',\n",
       " 'Pseudochromis_fuscus',\n",
       " 'Pseudochromis_paccagnellae',\n",
       " 'Pseudochromis_porphyreus',\n",
       " 'Pseudochromis_sankeyi',\n",
       " 'Pseudochromis_splendens',\n",
       " 'Pseudochromis_springeri',\n",
       " 'Pseudochromis_steenei',\n",
       " 'Pseudochromis_veliferus',\n",
       " 'Pterapogon_kauderni',\n",
       " 'Ptereleotris_evides',\n",
       " 'Ptereleotris_hanae',\n",
       " 'Ptereleotris_zebra',\n",
       " 'Pteroidichthys_amboinensis',\n",
       " 'Pterois spp',\n",
       " 'Pygoplites_diacanthus',\n",
       " 'Rhina_ancylostoma',\n",
       " 'Rhinecanthus_aculeatus',\n",
       " 'Rhinecanthus_assasi',\n",
       " 'Rhinecanthus_rectangulus',\n",
       " 'Rhinecanthus_verrucosus',\n",
       " 'Rhinomuraena_quaesita',\n",
       " 'Rhinopias_aphanes',\n",
       " 'Rhinopias_eschmeyeri+Rhinopias_frondosa',\n",
       " 'Rhinoptera_bonasus',\n",
       " 'Salarias_fasciatus',\n",
       " 'Salarias_ramosus',\n",
       " 'Salarias_segmentatus',\n",
       " 'Sargocentron_tiere',\n",
       " 'Sargocentron_xantherythrum',\n",
       " 'Scartella_cristata',\n",
       " 'Scarus_taeniopterus',\n",
       " 'Scorpaenopsis_macrochir',\n",
       " 'Scorpaenopsis_papuensis',\n",
       " 'Scorpaenopsis_possi',\n",
       " 'Sebastapistes_cyanostigma',\n",
       " 'Selene_vomer',\n",
       " 'Serranus_scriba',\n",
       " 'Serranus_tigrinus',\n",
       " 'Serranus_tortugarum',\n",
       " 'Siganus_doliatus',\n",
       " 'Siganus_guttatus',\n",
       " 'Siganus_magnificus',\n",
       " 'Siganus_unimaculatus',\n",
       " 'Siganus_uspi',\n",
       " 'Siganus_vulpinus',\n",
       " 'Signigobius_biocellatus',\n",
       " 'Soleichthys_heterorhinos',\n",
       " 'Sphaeramia_nematoptera',\n",
       " 'Sphaeramia_orbicularis',\n",
       " 'Sphyrna_tiburo',\n",
       " 'Stegastes_diencaeus',\n",
       " 'Stegastes_planifrons',\n",
       " 'Stegostoma_fasciatum',\n",
       " 'Stonogobiops_dracula',\n",
       " 'Stonogobiops_nematodes',\n",
       " 'Stonogobiops_yasha',\n",
       " 'Sufflamen_albicaudatum',\n",
       " 'Sufflamen_bursa',\n",
       " 'Sufflamen_chrysopterum',\n",
       " 'Symphorichthys_spilurus',\n",
       " 'Synanceja_verrucosa',\n",
       " 'Synchiropus_ocellatus',\n",
       " 'Synchiropus_picturatus',\n",
       " 'Synchiropus_splendidus',\n",
       " 'Synchiropus_stellatus',\n",
       " 'Taenianotus_triacanthus',\n",
       " 'Taeniura_lymma',\n",
       " 'Terapon_jarbua',\n",
       " 'Tetrosomus_gibbosus',\n",
       " 'Thalassoma_bifasciatum',\n",
       " 'Thalassoma_hebraicum',\n",
       " 'Thalassoma_jansenii',\n",
       " 'Thalassoma_lucasanum',\n",
       " 'Thalassoma_lunare',\n",
       " 'Thalassoma_lutescens',\n",
       " 'Thalassoma_quinquevittatum',\n",
       " 'Thalassoma_trilobatum',\n",
       " 'Torpedo spp',\n",
       " 'Triaenodon_obesus',\n",
       " 'Triakis_scyllium',\n",
       " 'Triakis_semifasciata',\n",
       " 'Trimma_cana',\n",
       " 'Trygonoptera_ovalis+Trygonoptera_testacea',\n",
       " 'Trygonorrhina_fasciata',\n",
       " 'Urobatis spp',\n",
       " 'Urolophus_gigas',\n",
       " 'Urotrygon_chilensis',\n",
       " 'Valenciennea_helsdingenii',\n",
       " 'Valenciennea_longipinnis',\n",
       " 'Valenciennea_puellaris',\n",
       " 'Valenciennea_sexguttata',\n",
       " 'Valenciennea_strigata',\n",
       " 'Valenciennea_wardii',\n",
       " 'Variola_louti',\n",
       " 'Xanthichthys_auromarginatus',\n",
       " 'Xanthichthys_caeruleolineatus',\n",
       " 'Xanthichthys_mento',\n",
       " 'Xanthichthys_ringens',\n",
       " 'Zanclus_cornutus',\n",
       " 'Zapteryx_Brevirostris+Zapteryx_exasperata',\n",
       " 'Zapteryx_xyster',\n",
       " 'Zebrasoma_desjardinii',\n",
       " 'Zebrasoma_flavescens',\n",
       " 'Zebrasoma_scopas',\n",
       " 'Zebrasoma_veliferum',\n",
       " 'Zebrasoma_xanthurum']"
      ]
     },
     "execution_count": 9,
     "metadata": {},
     "output_type": "execute_result"
    }
   ],
   "source": [
    "# get list of all the classes\n",
    "path = 'dataset/train'\n",
    "list_files = os.listdir(path)\n",
    "list_files"
   ]
  },
  {
   "cell_type": "code",
   "execution_count": 10,
   "metadata": {
    "id": "d4GCUT_KwOfw"
   },
   "outputs": [],
   "source": [
    "train_dir = 'dataset/train/'\n",
    "valid_dir = 'dataset/valid/'\n",
    "test_dir = 'dataset/test/'"
   ]
  },
  {
   "cell_type": "code",
   "execution_count": 5,
   "metadata": {
    "id": "PuCPl3nPwP9u"
   },
   "outputs": [],
   "source": [
    "# valid base generator\n",
    "val_gen = ImageDataGenerator(\n",
    "    rescale=1./255,\n",
    "    horizontal_flip=True\n",
    ")\n",
    "\n",
    "# train base generator with augmentation\n",
    "train_gen = ImageDataGenerator(\n",
    "    rescale=1./255,\n",
    "    rotation_range=40,\n",
    "    width_shift_range=0.2,\n",
    "    height_shift_range=0.2,\n",
    "    shear_range=0.2,\n",
    "    zoom_range=0.2,\n",
    "    horizontal_flip=True\n",
    ")"
   ]
  },
  {
   "cell_type": "code",
   "execution_count": 6,
   "metadata": {
    "colab": {
     "base_uri": "https://localhost:8080/"
    },
    "id": "Kf0Bd1Td4ELc",
    "outputId": "f4863f19-beb8-4796-d2b4-59703b264e8c"
   },
   "outputs": [
    {
     "name": "stdout",
     "output_type": "stream",
     "text": [
      "Found 30057 images belonging to 549 classes.\n",
      "Found 8667 images belonging to 549 classes.\n"
     ]
    }
   ],
   "source": [
    "# train and valid generator\n",
    "train_generator = train_gen.flow_from_directory(\n",
    "    train_dir,\n",
    "    target_size=(224, 224),\n",
    "    batch_size=64,\n",
    "    class_mode='categorical'\n",
    ")\n",
    "\n",
    "validation_generator = val_gen.flow_from_directory(\n",
    "    valid_dir,\n",
    "    target_size=(224, 224),\n",
    "    batch_size=64,\n",
    "    class_mode='categorical'\n",
    ")"
   ]
  },
  {
   "cell_type": "code",
   "execution_count": 11,
   "metadata": {
    "id": "tjeYP_Fry4J3"
   },
   "outputs": [],
   "source": [
    "ImageFile.LOAD_TRUNCATED_IMAGES = True"
   ]
  },
  {
   "cell_type": "code",
   "execution_count": 8,
   "metadata": {
    "id": "6sqoK1U5fTb_"
   },
   "outputs": [],
   "source": [
    "# oversampling generator class\n",
    "class OversamplingDataGenerator:\n",
    "    def __init__(self, generator, oversampler):\n",
    "        self.generator = generator\n",
    "        self.oversampler = oversampler\n",
    "        self.class_indices = generator.class_indices\n",
    "        self.samples = generator.samples\n",
    "        self.batch_size = generator.batch_size\n",
    "        self.image_shape = generator.image_shape\n",
    "        self.num_classes = len(generator.class_indices)\n",
    "\n",
    "    def __iter__(self):\n",
    "        return self\n",
    "\n",
    "    def __next__(self):\n",
    "        x_batch, y_batch = next(self.generator)\n",
    "        y_batch_flat = np.argmax(y_batch, axis=1)\n",
    "        x_batch_resampled, y_batch_resampled = self.oversampler.fit_resample(x_batch.reshape((x_batch.shape[0], -1)), y_batch_flat)\n",
    "        x_batch_resampled = x_batch_resampled.reshape((-1,) + self.image_shape)\n",
    "        y_batch_resampled = np.eye(self.num_classes)[y_batch_resampled]\n",
    "\n",
    "        return x_batch_resampled, y_batch_resampled\n",
    "\n",
    "    def __len__(self):\n",
    "        return len(self.generator)"
   ]
  },
  {
   "cell_type": "code",
   "execution_count": 9,
   "metadata": {
    "id": "zGdf3PbqfTcA"
   },
   "outputs": [],
   "source": [
    "# make oversampler and set to minority (make small amount to large amount)\n",
    "oversampler = RandomOverSampler(sampling_strategy='minority')\n",
    "# oversampling on train generator\n",
    "oversampled_train_generator = OversamplingDataGenerator(train_generator, oversampler)"
   ]
  },
  {
   "cell_type": "code",
   "execution_count": 12,
   "metadata": {
    "colab": {
     "base_uri": "https://localhost:8080/"
    },
    "id": "o6wZXgpkwSXo",
    "outputId": "5b36aff5-cc05-4eb8-c1af-667110a10df8"
   },
   "outputs": [
    {
     "name": "stdout",
     "output_type": "stream",
     "text": [
      "Found 4518 images belonging to 549 classes.\n"
     ]
    }
   ],
   "source": [
    "# test generator\n",
    "test_gen = ImageDataGenerator(rescale=1./255)\n",
    "\n",
    "test_generator = test_gen.flow_from_directory(\n",
    "    test_dir,\n",
    "    target_size=(224, 224),\n",
    "    batch_size=64,\n",
    "    class_mode='categorical'\n",
    ")"
   ]
  },
  {
   "cell_type": "code",
   "execution_count": 11,
   "metadata": {
    "colab": {
     "base_uri": "https://localhost:8080/"
    },
    "id": "0TAK0WrnwTpU",
    "outputId": "fe3a4590-49ee-48ac-c44a-fe527402cb44"
   },
   "outputs": [
    {
     "name": "stdout",
     "output_type": "stream",
     "text": [
      "Class labels: ['Abalistes_stellatus', 'Abudefduf_saxatilis', 'Acanthemblemaria_spinosa', 'Acanthochromis_polyacanthus', 'Acanthurus_achilles', 'Acanthurus_chirurgus', 'Acanthurus_coeruleus', 'Acanthurus_dussumieri', 'Acanthurus_japonicus', 'Acanthurus_leucosternon', 'Acanthurus_lineatus', 'Acanthurus_maculiceps', 'Acanthurus_nigricans', 'Acanthurus_nigrofuscus', 'Acanthurus_nigroris', 'Acanthurus_olivaceus', 'Acanthurus_pyroferus', 'Acanthurus_sohal', 'Acanthurus_tennenti', 'Acanthurus_thompsoni', 'Acanthurus_triostegus', 'Acanthurus_tristis', 'Acanthurus_xanthopterus', 'Aetobatus_narinari', 'Alectis_indicus', 'Amblyapistus_taenianotus', 'Amblycirrhitus_pinos', 'Amblyeleotris_diagonalis', 'Amblyeleotris_guttata', 'Amblyeleotris_randalli', 'Amblyeleotris_steinitzi', 'Amblyeleotris_wheeleri', 'Amblyglyphidodon_aureus', 'Amblygobius_decussatus', 'Amblygobius_hectori', 'Amblygobius_phalaena', 'Amblygobius_rainfordi', 'Amphiprion_clarkii', 'Amphiprion_percula+Amphiprion_ocellaris', 'Amphiprion_perideraion', 'Amphiprion_polymnus', 'Amphiprion_sebae', 'Amphirion_frenatus+Amphirion_melanopus', 'Anisotremus_virginicus', 'Antennarius spp', 'Antennarius_striatus', 'Apogon_maculatus', 'Apogon_nigrofasciatus', 'Apolemichthys_griffisi', 'Apolemichthys_xanthurus', 'Aptychotrema_rostrata', 'Archamia_zosterophora', 'Arothron_hispidus', 'Arothron_immaculatus', 'Arothron_manilensis', 'Arothron_mappa', 'Arothron_meleagris', 'Arothron_nigropunctatus', 'Arothron_stellatus', 'Assessor_flavissimus', 'Assessor_macneilli', 'Atelomycterus spp', 'Atrosalarias_fuscus', 'Balistapus_undulatus', 'Balistes_punctatus', 'Balistes_vetula', 'Balistoides_conspicillum', 'Balistoides_viridescens', 'Bodianus_bilunulatus', 'Bodianus_bimaculatus', 'Bodianus_diana', 'Bodianus_mesothorax', 'Bodianus_pulchellus', 'Bodianus_rufus', 'Bothus spp', 'Caesio_xanthonota', 'Calloplesiops_altivelis', 'Cantherhines_dumerili', 'Canthigaster_bennetti', 'Canthigaster_coronata', 'Canthigaster_jactator', 'Canthigaster_papua', 'Canthigaster_rostrata', 'Canthigaster_valentini', 'Carcharhinus_melanopterus', 'Centropyge_acanthops', 'Centropyge_argi', 'Centropyge_aurantonotus', 'Centropyge_bicolor', 'Centropyge_bispinosa', 'Centropyge_deborae', 'Centropyge_eibli', 'Centropyge_ferrugata', 'Centropyge_flavicauda', 'Centropyge_flavissima', 'Centropyge_heraldi', 'Centropyge_loricula', 'Centropyge_multicolor', 'Centropyge_multifasciata', 'Centropyge_potteri', 'Centropyge_tibicen', 'Centropyge_venustus', 'Centropyge_vroliki', 'Cephalopholis_argus', 'Cephalopholis_formosa', 'Cephalopholis_fulva', 'Cephalopholis_miniata', 'Cephalopholis_panamensis', 'Cephalopholis_polleni', 'Cetoscarus_bicolor', 'Chaetodermis_penicilligerus', 'Chaetodon_auriga', 'Chaetodon_capistratus', 'Chaetodon_ephippium', 'Chaetodon_falcula', 'Chaetodon_lunula', 'Chaetodon_mertensii', 'Chaetodon_paucifasciatus', 'Chaetodon_rafflesii', 'Chaetodon_sedentarius', 'Chaetodon_semilarvatus', 'Chaetodon_striatus', 'Chaetodon_tinkeri', 'Chaetodon_ulietensis', 'Chaetodon_unimaculatus', 'Chaetodontoplus_caeruleopunctatus', 'Chaetodontoplus_duboulayi', 'Chaetodontoplus_meridithii', 'Cheilinus_diagrammus', 'Chelmon_rostratus', 'Chiloscyllium_plagiosum', 'Chiloscyllium_punctatum', 'Choerodon_fasciatus', 'Chromis_amboinensis', 'Chromis_cyanea', 'Chromis_iomelas', 'Chromis_limbaughi', 'Chromis_lineata', 'Chromis_margaritifer', 'Chromis_nitida', 'Chromis_retrofasciata', 'Chromis_viridis', 'Chromis_xanthura', 'Chrysiptera_caeruleolineata', 'Chrysiptera_cyanea', 'Chrysiptera_galba', 'Chrysiptera_hemicyanea', 'Chrysiptera_parasema', 'Chrysiptera_rex', 'Chrysiptera_rollandi', 'Chrysiptera_springeri', 'Chrysiptera_starcki', 'Chrysiptera_talboti', 'Chrysiptera_taupou', 'Chrysiptera_tricincta', 'Cirrhilabrus_aurantidorsalis', 'Cirrhilabrus_cyanopleura', 'Cirrhilabrus_exquisitus', 'Cirrhilabrus_filamentosus', 'Cirrhilabrus_flavidorsalis', 'Cirrhilabrus_jordani', 'Cirrhilabrus_laboutei', 'Cirrhilabrus_lineatus', 'Cirrhilabrus_lubbocki', 'Cirrhilabrus_luteovittatus', 'Cirrhilabrus_punctatus', 'Cirrhilabrus_rhomboidalis', 'Cirrhilabrus_rubrisquamis', 'Cirrhilabrus_rubriventralis', 'Cirrhilabrus_ryukyuensis', 'Cirrhilabrus_scottorum', 'Cirrhilabrus_solorensis', 'Cirrhitichthys_aprinus', 'Cirrhitichthys_aureus', 'Cirrhitichthys_falco', 'Cirrhitichthys_oxycephalus', 'Cirrhitichthys_polyactis', 'Cirripectes_stigmaticus', 'Congrogadus_subducens', 'Coris_formosa', 'Coris_gaimard', 'Coryphopterus_glaucofraenum', 'Corythoichthys_haematopterus', 'Cromileptes_altivelis', 'Crossosalarias_macrospilus', 'Cryptocentrus_aurora', 'Cryptocentrus_cinctus', 'Cryptocentrus_pavoninoides', 'Ctenochaetus_binotatus', 'Ctenochaetus_hawaiiensis', 'Ctenochaetus_striatus', 'Ctenochaetus_strigosus', 'Ctenochaetus_tominiensis', 'Ctenogobiops_tangaroai', 'Cypho_purpurascens', 'Dascyllus_albisella', 'Dascyllus_auripinnis', 'Dascyllus_carneus', 'Dascyllus_flavicaudus', 'Dascyllus_marginatus', 'Dascyllus_melanurus+Dascyllus_aruanus', 'Dascyllus_reticulatus', 'Dascyllus_trimaculatus', 'Dendrochirus_barberi', 'Dendrochirus_biocellatus', 'Dendrochirus_brachypterus', 'Dendrochirus_zebra', 'Diademichthys_lineatus', 'Diodon_holocanthus', 'Diodon_hystrix', 'Diplobatis_ommata', 'Dischistodus_prosopotaenia', 'Discordipinna_griessingeri', 'Doryrhamphus_dactyliophorus', 'Doryrhamphus_janssi', 'Doryrhamphus_pessuliferus', 'Echidna_catenata', 'Echidna_nebulosa', 'Echidna_polyzona', 'Ecsenius_bicolor', 'Ecsenius_bimaculatus', 'Ecsenius_gravieri', 'Ecsenius_lineatus', 'Ecsenius_midas', 'Ecsenius_namiyei', 'Ecsenius_stigmatura', 'Elacatinus_multifasciatus', 'Elacatinus_oceanops', 'Elacatinus_puncticulatus', 'Emblemaria_pandionis', 'Enchelycore_pardalis', 'Enchelyurus_flavipes', 'Epinephelus_fasciatus', 'Epinephelus_flavocaeruleus', 'Epinephelus_summana', 'Eucrossorhinus_dasypogon', 'Eviota_pellucida', 'Forcipiger_flavissimus', 'Genicanthus_bellus', 'Genicanthus_semifasciatus', 'Ginglymostoma_cirratum', 'Glaucostegus_typus', 'Gnathanodon_speciosus', 'Gobiodon_acicularis', 'Gobiodon_atrangulatus', 'Gobiodon_citrinus', 'Gobiodon_okinawae', 'Gobioides_broussonnetii', 'Gomphosus_varius', 'Gramma_brasiliensis', 'Gramma_loreto', 'Gramma_melacara', 'Grammistes_sexlineatus', 'Gymnomuraena_zebra', 'Gymnothorax_favagineus', 'Gymnothorax_fimbriatus', 'Gymnothorax_funebris', 'Gymnothorax_kidako', 'Gymnothorax_melatremus', 'Gymnothorax_meleagris', 'Gymnothorax_miliaris', 'Gymnothorax_nudivomer', 'Gymnothorax_saxicola', 'Gymnura spp', 'Halichoeres_chloropterus', 'Halichoeres_chrysus', 'Halichoeres_hortulanus', 'Halichoeres_iridis', 'Halichoeres_melanurus', 'Halichoeres_trispilus', 'Hemiscyllium_ocellatum', 'Hemitrygon_akajei', 'Heniochus_diphreutes', 'Heteroconger_hassi', 'Heterodontus_francisci', 'Heterodontus_portusjacksoni', 'Heteropriacanthus_cruentatus', 'Himantura_uarnak', 'Hippocampus spp', 'Hippocampus_bargibanti', 'Histrio_histrio', 'Holacanthus_bermudensis', 'Holacanthus_ciliaris', 'Holacanthus_passer', 'Holacanthus_tricolor', 'Hoplolatilus_luteus', 'Hoplolatilus_marcosi', 'Hoplolatilus_purpureus', 'Hoplolatilus_starcki', 'Hypanus spp', 'Hypoplectrus_gemma', 'Hypoplectrus_gummigutta', 'Hypoplectrus_guttavarius', 'Hypoplectrus_indigo', 'Hypoplectrus_nigricans', 'Hypoplectrus_puella', 'Hypoplectrus_unicolor', 'Hypsypops_rubicunda', 'Inimicus_didactylus', 'Iracundus_signifer', 'Labracinus_cyclophthalmus', 'Labroides_bicolor', 'Labroides_dimidiatus', 'Labroides_phthirophagus', 'Lactoria_cornuta', 'Lutjanus_adetii', 'Lutjanus_sebae', 'Lythrypnus_dalli', 'Macolor_niger', 'Macropharyngodon_geoffroyi', 'Macropharyngodon_meleagris', 'Malacoctenus_boehlkei', 'Manonichthys_alleni', 'Meiacanthus_bundoon', 'Meiacanthus_grammistes', 'Meiacanthus_mossambicus', 'Meiacanthus_nigrolineatus', 'Meiacanthus_oualanensis', 'Melichthys_indicus', 'Melichthys_niger', 'Melichthys_vidua', 'Meuschenia_hippocrepis', 'Microspathodon_chrysurus', 'Muraena_lentiginosa', 'Mustelus spp', 'Mycteroperca_rosacea', 'Myliobatis spp', 'Myrichthys_colubrinus', 'Myrichthys_maculosus', 'Myripristis_jacobus', 'Myripristis_vittata', 'Narcine spp', 'Naso_lituratus', 'Naso_lopezi', 'Naso_unicornis', 'Naso_vlamingii', 'Nemateleotris_decora', 'Nemateleotris_magnifica', 'Neocirrhitus_armatus', 'Neoglyphidodon_crossi', 'Neoglyphidodon_melas', 'Neoglyphidodon_nigroris', 'Neopomacentrus_azysron', 'Neotrygon_kuhlii', 'Novaculichthys_taeniourus', 'Odonus_niger', 'Ogilbyina_novaehollandiae', 'Ophioblennius_atlanticus', 'Opistognathus_aurifrons', 'Opistognathus_lonchurus', 'Opistognathus_rosenblatti', 'Opistognathus_whitehurstii', 'Orectolobus spp', 'Ostorhinchus_aureus', 'Ostorhinchus_compressus', 'Ostorhinchus_cyanosoma', 'Ostracion_cubicus', 'Ostracion_solorensis', 'Oxycirrhites_typus', 'Oxymonacanthus_longirostris', 'Paracanthurus_hepatus', 'Paracheilinus_carpenteri', 'Paracirrhites_arcatus', 'Paracirrhites_forsteri', 'Paracirrhites_hemistictus', 'Paracirrhites_xanthus', 'Paraglyphidodon_oxyodon', 'Paraluteres_prionurus', 'Paramonacanthus_japonicus', 'Parapterois_heterura', 'Parascorpaena_mossambica', 'Parupeneus_barberinoides', 'Parupeneus_barberinus', 'Parupeneus_cyclostomus', 'Parupeneus_multifasciatus', 'Pastinachus_sephen', 'Pervagor_melanocephalus', 'Pervagor_spilosoma', 'Pholidichthys_leucotaenia', 'Pholidochromis_cerasina', 'Platax_orbicularis', 'Platax_pinnatus', 'Platax_teira', 'Platyrhinoidis_triseriata', 'Plectorhinchus_albovittatus', 'Plectorhinchus_chaetodonoides', 'Plectorhinchus_diagrammus+Plectorhinchus_orientalis', 'Plectorhinchus_lineatus', 'Plectorhinchus_picus', 'Plectropomus_laevis', 'Pogonoperca_punctata', 'Pomacanthus_annularis', 'Pomacanthus_arcuatus', 'Pomacanthus_asfur', 'Pomacanthus_imperator', 'Pomacanthus_maculosus', 'Pomacanthus_navarchus', 'Pomacanthus_paru', 'Pomacanthus_semicirculatus', 'Pomacanthus_xanthometopon', 'Pomacanthus_zonipectus', 'Pomacentrus_alleni', 'Pomacentrus_amboinensis', 'Pomacentrus_auriventris', 'Pomacentrus_bankanensis', 'Pomacentrus_caeruleus', 'Pomacentrus_moluccensis', 'Pomacentrus_nigromarginatus', 'Pomacentrus_pavo', 'Pomacentrus_simsiang', 'Pomacentrus_smithi', 'Pomacentrus_vaiuli', 'Premnas_biaculeatus', 'Priolepis_aureoviridis', 'Priolepis_nocturna', 'Pristigenys_serrula', 'Pseudanthias_bartlettorum', 'Pseudanthias_bicolor', 'Pseudanthias_cooperi', 'Pseudanthias_huchtii', 'Pseudanthias_hypselosoma', 'Pseudanthias_parvirostris', 'Pseudanthias_pleurotaenia', 'Pseudanthias_rubrizonatus', 'Pseudanthias_squamipinnis', 'Pseudobalistes_fuscus', 'Pseudobatos spp', 'Pseudocheilinus_evanidus', 'Pseudocheilinus_hexataenia', 'Pseudocheilinus_ocellatus', 'Pseudocheilinus_octotaenia', 'Pseudocheilinus_tetrataenia', 'Pseudochromis_aldabraensis', 'Pseudochromis_aureus', 'Pseudochromis_bitaeniatus', 'Pseudochromis_coccinicauda', 'Pseudochromis_cyanotaenia', 'Pseudochromis_diadema', 'Pseudochromis_dilectus', 'Pseudochromis_elongatus', 'Pseudochromis_flammicauda', 'Pseudochromis_flavivertex', 'Pseudochromis_fridmani', 'Pseudochromis_fuscus', 'Pseudochromis_paccagnellae', 'Pseudochromis_porphyreus', 'Pseudochromis_sankeyi', 'Pseudochromis_splendens', 'Pseudochromis_springeri', 'Pseudochromis_steenei', 'Pseudochromis_veliferus', 'Pterapogon_kauderni', 'Ptereleotris_evides', 'Ptereleotris_hanae', 'Ptereleotris_zebra', 'Pteroidichthys_amboinensis', 'Pterois spp', 'Pygoplites_diacanthus', 'Rhina_ancylostoma', 'Rhinecanthus_aculeatus', 'Rhinecanthus_assasi', 'Rhinecanthus_rectangulus', 'Rhinecanthus_verrucosus', 'Rhinomuraena_quaesita', 'Rhinopias_aphanes', 'Rhinopias_eschmeyeri+Rhinopias_frondosa', 'Rhinoptera_bonasus', 'Salarias_fasciatus', 'Salarias_ramosus', 'Salarias_segmentatus', 'Sargocentron_tiere', 'Sargocentron_xantherythrum', 'Scartella_cristata', 'Scarus_taeniopterus', 'Scorpaenopsis_macrochir', 'Scorpaenopsis_papuensis', 'Scorpaenopsis_possi', 'Sebastapistes_cyanostigma', 'Selene_vomer', 'Serranus_scriba', 'Serranus_tigrinus', 'Serranus_tortugarum', 'Siganus_doliatus', 'Siganus_guttatus', 'Siganus_magnificus', 'Siganus_unimaculatus', 'Siganus_uspi', 'Siganus_vulpinus', 'Signigobius_biocellatus', 'Soleichthys_heterorhinos', 'Sphaeramia_nematoptera', 'Sphaeramia_orbicularis', 'Sphyrna_tiburo', 'Stegastes_diencaeus', 'Stegastes_planifrons', 'Stegostoma_fasciatum', 'Stonogobiops_dracula', 'Stonogobiops_nematodes', 'Stonogobiops_yasha', 'Sufflamen_albicaudatum', 'Sufflamen_bursa', 'Sufflamen_chrysopterum', 'Symphorichthys_spilurus', 'Synanceja_verrucosa', 'Synchiropus_ocellatus', 'Synchiropus_picturatus', 'Synchiropus_splendidus', 'Synchiropus_stellatus', 'Taenianotus_triacanthus', 'Taeniura_lymma', 'Terapon_jarbua', 'Tetrosomus_gibbosus', 'Thalassoma_bifasciatum', 'Thalassoma_hebraicum', 'Thalassoma_jansenii', 'Thalassoma_lucasanum', 'Thalassoma_lunare', 'Thalassoma_lutescens', 'Thalassoma_quinquevittatum', 'Thalassoma_trilobatum', 'Torpedo spp', 'Triaenodon_obesus', 'Triakis_scyllium', 'Triakis_semifasciata', 'Trimma_cana', 'Trygonoptera_ovalis+Trygonoptera_testacea', 'Trygonorrhina_fasciata', 'Urobatis spp', 'Urolophus_gigas', 'Urotrygon_chilensis', 'Valenciennea_helsdingenii', 'Valenciennea_longipinnis', 'Valenciennea_puellaris', 'Valenciennea_sexguttata', 'Valenciennea_strigata', 'Valenciennea_wardii', 'Variola_louti', 'Xanthichthys_auromarginatus', 'Xanthichthys_caeruleolineatus', 'Xanthichthys_mento', 'Xanthichthys_ringens', 'Zanclus_cornutus', 'Zapteryx_Brevirostris+Zapteryx_exasperata', 'Zapteryx_xyster', 'Zebrasoma_desjardinii', 'Zebrasoma_flavescens', 'Zebrasoma_scopas', 'Zebrasoma_veliferum', 'Zebrasoma_xanthurum']\n",
      "Number of classes: 549\n"
     ]
    }
   ],
   "source": [
    "# show number of classes and list of classes\n",
    "num_classes = len(oversampled_train_generator.class_indices)\n",
    "class_labels = list(oversampled_train_generator.class_indices.keys())\n",
    "print('Class labels:', class_labels)\n",
    "print('Number of classes:', num_classes)"
   ]
  },
  {
   "cell_type": "code",
   "execution_count": 12,
   "metadata": {
    "colab": {
     "base_uri": "https://localhost:8080/"
    },
    "id": "gIO-V0gRwVeK",
    "outputId": "cf9e10a2-d02d-4894-c59d-43a6a933edd8"
   },
   "outputs": [
    {
     "name": "stdout",
     "output_type": "stream",
     "text": [
      "Model: \"mobilenet_1.00_224\"\n",
      "_________________________________________________________________\n",
      " Layer (type)                Output Shape              Param #   \n",
      "=================================================================\n",
      " input_1 (InputLayer)        [(None, 224, 224, 3)]     0         \n",
      "                                                                 \n",
      " conv1 (Conv2D)              (None, 112, 112, 32)      864       \n",
      "                                                                 \n",
      " conv1_bn (BatchNormalizatio  (None, 112, 112, 32)     128       \n",
      " n)                                                              \n",
      "                                                                 \n",
      " conv1_relu (ReLU)           (None, 112, 112, 32)      0         \n",
      "                                                                 \n",
      " conv_dw_1 (DepthwiseConv2D)  (None, 112, 112, 32)     288       \n",
      "                                                                 \n",
      " conv_dw_1_bn (BatchNormaliz  (None, 112, 112, 32)     128       \n",
      " ation)                                                          \n",
      "                                                                 \n",
      " conv_dw_1_relu (ReLU)       (None, 112, 112, 32)      0         \n",
      "                                                                 \n",
      " conv_pw_1 (Conv2D)          (None, 112, 112, 64)      2048      \n",
      "                                                                 \n",
      " conv_pw_1_bn (BatchNormaliz  (None, 112, 112, 64)     256       \n",
      " ation)                                                          \n",
      "                                                                 \n",
      " conv_pw_1_relu (ReLU)       (None, 112, 112, 64)      0         \n",
      "                                                                 \n",
      " conv_pad_2 (ZeroPadding2D)  (None, 113, 113, 64)      0         \n",
      "                                                                 \n",
      " conv_dw_2 (DepthwiseConv2D)  (None, 56, 56, 64)       576       \n",
      "                                                                 \n",
      " conv_dw_2_bn (BatchNormaliz  (None, 56, 56, 64)       256       \n",
      " ation)                                                          \n",
      "                                                                 \n",
      " conv_dw_2_relu (ReLU)       (None, 56, 56, 64)        0         \n",
      "                                                                 \n",
      " conv_pw_2 (Conv2D)          (None, 56, 56, 128)       8192      \n",
      "                                                                 \n",
      " conv_pw_2_bn (BatchNormaliz  (None, 56, 56, 128)      512       \n",
      " ation)                                                          \n",
      "                                                                 \n",
      " conv_pw_2_relu (ReLU)       (None, 56, 56, 128)       0         \n",
      "                                                                 \n",
      " conv_dw_3 (DepthwiseConv2D)  (None, 56, 56, 128)      1152      \n",
      "                                                                 \n",
      " conv_dw_3_bn (BatchNormaliz  (None, 56, 56, 128)      512       \n",
      " ation)                                                          \n",
      "                                                                 \n",
      " conv_dw_3_relu (ReLU)       (None, 56, 56, 128)       0         \n",
      "                                                                 \n",
      " conv_pw_3 (Conv2D)          (None, 56, 56, 128)       16384     \n",
      "                                                                 \n",
      " conv_pw_3_bn (BatchNormaliz  (None, 56, 56, 128)      512       \n",
      " ation)                                                          \n",
      "                                                                 \n",
      " conv_pw_3_relu (ReLU)       (None, 56, 56, 128)       0         \n",
      "                                                                 \n",
      " conv_pad_4 (ZeroPadding2D)  (None, 57, 57, 128)       0         \n",
      "                                                                 \n",
      " conv_dw_4 (DepthwiseConv2D)  (None, 28, 28, 128)      1152      \n",
      "                                                                 \n",
      " conv_dw_4_bn (BatchNormaliz  (None, 28, 28, 128)      512       \n",
      " ation)                                                          \n",
      "                                                                 \n",
      " conv_dw_4_relu (ReLU)       (None, 28, 28, 128)       0         \n",
      "                                                                 \n",
      " conv_pw_4 (Conv2D)          (None, 28, 28, 256)       32768     \n",
      "                                                                 \n",
      " conv_pw_4_bn (BatchNormaliz  (None, 28, 28, 256)      1024      \n",
      " ation)                                                          \n",
      "                                                                 \n",
      " conv_pw_4_relu (ReLU)       (None, 28, 28, 256)       0         \n",
      "                                                                 \n",
      " conv_dw_5 (DepthwiseConv2D)  (None, 28, 28, 256)      2304      \n",
      "                                                                 \n",
      " conv_dw_5_bn (BatchNormaliz  (None, 28, 28, 256)      1024      \n",
      " ation)                                                          \n",
      "                                                                 \n",
      " conv_dw_5_relu (ReLU)       (None, 28, 28, 256)       0         \n",
      "                                                                 \n",
      " conv_pw_5 (Conv2D)          (None, 28, 28, 256)       65536     \n",
      "                                                                 \n",
      " conv_pw_5_bn (BatchNormaliz  (None, 28, 28, 256)      1024      \n",
      " ation)                                                          \n",
      "                                                                 \n",
      " conv_pw_5_relu (ReLU)       (None, 28, 28, 256)       0         \n",
      "                                                                 \n",
      " conv_pad_6 (ZeroPadding2D)  (None, 29, 29, 256)       0         \n",
      "                                                                 \n",
      " conv_dw_6 (DepthwiseConv2D)  (None, 14, 14, 256)      2304      \n",
      "                                                                 \n",
      " conv_dw_6_bn (BatchNormaliz  (None, 14, 14, 256)      1024      \n",
      " ation)                                                          \n",
      "                                                                 \n",
      " conv_dw_6_relu (ReLU)       (None, 14, 14, 256)       0         \n",
      "                                                                 \n",
      " conv_pw_6 (Conv2D)          (None, 14, 14, 512)       131072    \n",
      "                                                                 \n",
      " conv_pw_6_bn (BatchNormaliz  (None, 14, 14, 512)      2048      \n",
      " ation)                                                          \n",
      "                                                                 \n",
      " conv_pw_6_relu (ReLU)       (None, 14, 14, 512)       0         \n",
      "                                                                 \n",
      " conv_dw_7 (DepthwiseConv2D)  (None, 14, 14, 512)      4608      \n",
      "                                                                 \n",
      " conv_dw_7_bn (BatchNormaliz  (None, 14, 14, 512)      2048      \n",
      " ation)                                                          \n",
      "                                                                 \n",
      " conv_dw_7_relu (ReLU)       (None, 14, 14, 512)       0         \n",
      "                                                                 \n",
      " conv_pw_7 (Conv2D)          (None, 14, 14, 512)       262144    \n",
      "                                                                 \n",
      " conv_pw_7_bn (BatchNormaliz  (None, 14, 14, 512)      2048      \n",
      " ation)                                                          \n",
      "                                                                 \n",
      " conv_pw_7_relu (ReLU)       (None, 14, 14, 512)       0         \n",
      "                                                                 \n",
      " conv_dw_8 (DepthwiseConv2D)  (None, 14, 14, 512)      4608      \n",
      "                                                                 \n",
      " conv_dw_8_bn (BatchNormaliz  (None, 14, 14, 512)      2048      \n",
      " ation)                                                          \n",
      "                                                                 \n",
      " conv_dw_8_relu (ReLU)       (None, 14, 14, 512)       0         \n",
      "                                                                 \n",
      " conv_pw_8 (Conv2D)          (None, 14, 14, 512)       262144    \n",
      "                                                                 \n",
      " conv_pw_8_bn (BatchNormaliz  (None, 14, 14, 512)      2048      \n",
      " ation)                                                          \n",
      "                                                                 \n",
      " conv_pw_8_relu (ReLU)       (None, 14, 14, 512)       0         \n",
      "                                                                 \n",
      " conv_dw_9 (DepthwiseConv2D)  (None, 14, 14, 512)      4608      \n",
      "                                                                 \n",
      " conv_dw_9_bn (BatchNormaliz  (None, 14, 14, 512)      2048      \n",
      " ation)                                                          \n",
      "                                                                 \n",
      " conv_dw_9_relu (ReLU)       (None, 14, 14, 512)       0         \n",
      "                                                                 \n",
      " conv_pw_9 (Conv2D)          (None, 14, 14, 512)       262144    \n",
      "                                                                 \n",
      " conv_pw_9_bn (BatchNormaliz  (None, 14, 14, 512)      2048      \n",
      " ation)                                                          \n",
      "                                                                 \n",
      " conv_pw_9_relu (ReLU)       (None, 14, 14, 512)       0         \n",
      "                                                                 \n",
      " conv_dw_10 (DepthwiseConv2D  (None, 14, 14, 512)      4608      \n",
      " )                                                               \n",
      "                                                                 \n",
      " conv_dw_10_bn (BatchNormali  (None, 14, 14, 512)      2048      \n",
      " zation)                                                         \n",
      "                                                                 \n",
      " conv_dw_10_relu (ReLU)      (None, 14, 14, 512)       0         \n",
      "                                                                 \n",
      " conv_pw_10 (Conv2D)         (None, 14, 14, 512)       262144    \n",
      "                                                                 \n",
      " conv_pw_10_bn (BatchNormali  (None, 14, 14, 512)      2048      \n",
      " zation)                                                         \n",
      "                                                                 \n",
      " conv_pw_10_relu (ReLU)      (None, 14, 14, 512)       0         \n",
      "                                                                 \n",
      " conv_dw_11 (DepthwiseConv2D  (None, 14, 14, 512)      4608      \n",
      " )                                                               \n",
      "                                                                 \n",
      " conv_dw_11_bn (BatchNormali  (None, 14, 14, 512)      2048      \n",
      " zation)                                                         \n",
      "                                                                 \n",
      " conv_dw_11_relu (ReLU)      (None, 14, 14, 512)       0         \n",
      "                                                                 \n",
      " conv_pw_11 (Conv2D)         (None, 14, 14, 512)       262144    \n",
      "                                                                 \n",
      " conv_pw_11_bn (BatchNormali  (None, 14, 14, 512)      2048      \n",
      " zation)                                                         \n",
      "                                                                 \n",
      " conv_pw_11_relu (ReLU)      (None, 14, 14, 512)       0         \n",
      "                                                                 \n",
      " conv_pad_12 (ZeroPadding2D)  (None, 15, 15, 512)      0         \n",
      "                                                                 \n",
      " conv_dw_12 (DepthwiseConv2D  (None, 7, 7, 512)        4608      \n",
      " )                                                               \n",
      "                                                                 \n",
      " conv_dw_12_bn (BatchNormali  (None, 7, 7, 512)        2048      \n",
      " zation)                                                         \n",
      "                                                                 \n",
      " conv_dw_12_relu (ReLU)      (None, 7, 7, 512)         0         \n",
      "                                                                 \n",
      " conv_pw_12 (Conv2D)         (None, 7, 7, 1024)        524288    \n",
      "                                                                 \n",
      " conv_pw_12_bn (BatchNormali  (None, 7, 7, 1024)       4096      \n",
      " zation)                                                         \n",
      "                                                                 \n",
      " conv_pw_12_relu (ReLU)      (None, 7, 7, 1024)        0         \n",
      "                                                                 \n",
      " conv_dw_13 (DepthwiseConv2D  (None, 7, 7, 1024)       9216      \n",
      " )                                                               \n",
      "                                                                 \n",
      " conv_dw_13_bn (BatchNormali  (None, 7, 7, 1024)       4096      \n",
      " zation)                                                         \n",
      "                                                                 \n",
      " conv_dw_13_relu (ReLU)      (None, 7, 7, 1024)        0         \n",
      "                                                                 \n",
      " conv_pw_13 (Conv2D)         (None, 7, 7, 1024)        1048576   \n",
      "                                                                 \n",
      " conv_pw_13_bn (BatchNormali  (None, 7, 7, 1024)       4096      \n",
      " zation)                                                         \n",
      "                                                                 \n",
      " conv_pw_13_relu (ReLU)      (None, 7, 7, 1024)        0         \n",
      "                                                                 \n",
      " global_average_pooling2d (G  (None, 1, 1, 1024)       0         \n",
      " lobalAveragePooling2D)                                          \n",
      "                                                                 \n",
      " dropout (Dropout)           (None, 1, 1, 1024)        0         \n",
      "                                                                 \n",
      " conv_preds (Conv2D)         (None, 1, 1, 1000)        1025000   \n",
      "                                                                 \n",
      " reshape_2 (Reshape)         (None, 1000)              0         \n",
      "                                                                 \n",
      " predictions (Activation)    (None, 1000)              0         \n",
      "                                                                 \n",
      "=================================================================\n",
      "Total params: 4,253,864\n",
      "Trainable params: 4,231,976\n",
      "Non-trainable params: 21,888\n",
      "_________________________________________________________________\n"
     ]
    }
   ],
   "source": [
    "# get MobileNet base model\n",
    "mobile = tf.keras.applications.mobilenet.MobileNet()\n",
    "mobile.summary()"
   ]
  },
  {
   "cell_type": "code",
   "execution_count": 13,
   "metadata": {
    "id": "RpD7IcShJ97X"
   },
   "outputs": [],
   "source": [
    "# get the 5th from the last layer ( conv_pw_13_relu (ReLU) )\n",
    "x = mobile.layers[-5].output\n",
    "# reshape that layer\n",
    "x = tf.keras.layers.Reshape(target_shape=(1024,))(x)\n",
    "# add dropout\n",
    "x = Dropout(0.2)(x)\n",
    "# make prediction layer\n",
    "output = Dense(units=549, activation='softmax')(x)"
   ]
  },
  {
   "cell_type": "code",
   "execution_count": 14,
   "metadata": {},
   "outputs": [],
   "source": [
    "# freeze base model\n",
    "for layer in mobile.layers:\n",
    "    layer.trainable = False"
   ]
  },
  {
   "cell_type": "code",
   "execution_count": 15,
   "metadata": {},
   "outputs": [],
   "source": [
    "# get input layer from base model and combine with the output we made to make a new model\n",
    "model = Model(inputs=mobile.input, outputs=output)"
   ]
  },
  {
   "cell_type": "code",
   "execution_count": 16,
   "metadata": {
    "colab": {
     "base_uri": "https://localhost:8080/"
    },
    "id": "luds0tcFwbX4",
    "outputId": "97667572-c431-4905-faee-e3772a017849"
   },
   "outputs": [
    {
     "name": "stdout",
     "output_type": "stream",
     "text": [
      "Model: \"model\"\n",
      "_________________________________________________________________\n",
      " Layer (type)                Output Shape              Param #   \n",
      "=================================================================\n",
      " input_1 (InputLayer)        [(None, 224, 224, 3)]     0         \n",
      "                                                                 \n",
      " conv1 (Conv2D)              (None, 112, 112, 32)      864       \n",
      "                                                                 \n",
      " conv1_bn (BatchNormalizatio  (None, 112, 112, 32)     128       \n",
      " n)                                                              \n",
      "                                                                 \n",
      " conv1_relu (ReLU)           (None, 112, 112, 32)      0         \n",
      "                                                                 \n",
      " conv_dw_1 (DepthwiseConv2D)  (None, 112, 112, 32)     288       \n",
      "                                                                 \n",
      " conv_dw_1_bn (BatchNormaliz  (None, 112, 112, 32)     128       \n",
      " ation)                                                          \n",
      "                                                                 \n",
      " conv_dw_1_relu (ReLU)       (None, 112, 112, 32)      0         \n",
      "                                                                 \n",
      " conv_pw_1 (Conv2D)          (None, 112, 112, 64)      2048      \n",
      "                                                                 \n",
      " conv_pw_1_bn (BatchNormaliz  (None, 112, 112, 64)     256       \n",
      " ation)                                                          \n",
      "                                                                 \n",
      " conv_pw_1_relu (ReLU)       (None, 112, 112, 64)      0         \n",
      "                                                                 \n",
      " conv_pad_2 (ZeroPadding2D)  (None, 113, 113, 64)      0         \n",
      "                                                                 \n",
      " conv_dw_2 (DepthwiseConv2D)  (None, 56, 56, 64)       576       \n",
      "                                                                 \n",
      " conv_dw_2_bn (BatchNormaliz  (None, 56, 56, 64)       256       \n",
      " ation)                                                          \n",
      "                                                                 \n",
      " conv_dw_2_relu (ReLU)       (None, 56, 56, 64)        0         \n",
      "                                                                 \n",
      " conv_pw_2 (Conv2D)          (None, 56, 56, 128)       8192      \n",
      "                                                                 \n",
      " conv_pw_2_bn (BatchNormaliz  (None, 56, 56, 128)      512       \n",
      " ation)                                                          \n",
      "                                                                 \n",
      " conv_pw_2_relu (ReLU)       (None, 56, 56, 128)       0         \n",
      "                                                                 \n",
      " conv_dw_3 (DepthwiseConv2D)  (None, 56, 56, 128)      1152      \n",
      "                                                                 \n",
      " conv_dw_3_bn (BatchNormaliz  (None, 56, 56, 128)      512       \n",
      " ation)                                                          \n",
      "                                                                 \n",
      " conv_dw_3_relu (ReLU)       (None, 56, 56, 128)       0         \n",
      "                                                                 \n",
      " conv_pw_3 (Conv2D)          (None, 56, 56, 128)       16384     \n",
      "                                                                 \n",
      " conv_pw_3_bn (BatchNormaliz  (None, 56, 56, 128)      512       \n",
      " ation)                                                          \n",
      "                                                                 \n",
      " conv_pw_3_relu (ReLU)       (None, 56, 56, 128)       0         \n",
      "                                                                 \n",
      " conv_pad_4 (ZeroPadding2D)  (None, 57, 57, 128)       0         \n",
      "                                                                 \n",
      " conv_dw_4 (DepthwiseConv2D)  (None, 28, 28, 128)      1152      \n",
      "                                                                 \n",
      " conv_dw_4_bn (BatchNormaliz  (None, 28, 28, 128)      512       \n",
      " ation)                                                          \n",
      "                                                                 \n",
      " conv_dw_4_relu (ReLU)       (None, 28, 28, 128)       0         \n",
      "                                                                 \n",
      " conv_pw_4 (Conv2D)          (None, 28, 28, 256)       32768     \n",
      "                                                                 \n",
      " conv_pw_4_bn (BatchNormaliz  (None, 28, 28, 256)      1024      \n",
      " ation)                                                          \n",
      "                                                                 \n",
      " conv_pw_4_relu (ReLU)       (None, 28, 28, 256)       0         \n",
      "                                                                 \n",
      " conv_dw_5 (DepthwiseConv2D)  (None, 28, 28, 256)      2304      \n",
      "                                                                 \n",
      " conv_dw_5_bn (BatchNormaliz  (None, 28, 28, 256)      1024      \n",
      " ation)                                                          \n",
      "                                                                 \n",
      " conv_dw_5_relu (ReLU)       (None, 28, 28, 256)       0         \n",
      "                                                                 \n",
      " conv_pw_5 (Conv2D)          (None, 28, 28, 256)       65536     \n",
      "                                                                 \n",
      " conv_pw_5_bn (BatchNormaliz  (None, 28, 28, 256)      1024      \n",
      " ation)                                                          \n",
      "                                                                 \n",
      " conv_pw_5_relu (ReLU)       (None, 28, 28, 256)       0         \n",
      "                                                                 \n",
      " conv_pad_6 (ZeroPadding2D)  (None, 29, 29, 256)       0         \n",
      "                                                                 \n",
      " conv_dw_6 (DepthwiseConv2D)  (None, 14, 14, 256)      2304      \n",
      "                                                                 \n",
      " conv_dw_6_bn (BatchNormaliz  (None, 14, 14, 256)      1024      \n",
      " ation)                                                          \n",
      "                                                                 \n",
      " conv_dw_6_relu (ReLU)       (None, 14, 14, 256)       0         \n",
      "                                                                 \n",
      " conv_pw_6 (Conv2D)          (None, 14, 14, 512)       131072    \n",
      "                                                                 \n",
      " conv_pw_6_bn (BatchNormaliz  (None, 14, 14, 512)      2048      \n",
      " ation)                                                          \n",
      "                                                                 \n",
      " conv_pw_6_relu (ReLU)       (None, 14, 14, 512)       0         \n",
      "                                                                 \n",
      " conv_dw_7 (DepthwiseConv2D)  (None, 14, 14, 512)      4608      \n",
      "                                                                 \n",
      " conv_dw_7_bn (BatchNormaliz  (None, 14, 14, 512)      2048      \n",
      " ation)                                                          \n",
      "                                                                 \n",
      " conv_dw_7_relu (ReLU)       (None, 14, 14, 512)       0         \n",
      "                                                                 \n",
      " conv_pw_7 (Conv2D)          (None, 14, 14, 512)       262144    \n",
      "                                                                 \n",
      " conv_pw_7_bn (BatchNormaliz  (None, 14, 14, 512)      2048      \n",
      " ation)                                                          \n",
      "                                                                 \n",
      " conv_pw_7_relu (ReLU)       (None, 14, 14, 512)       0         \n",
      "                                                                 \n",
      " conv_dw_8 (DepthwiseConv2D)  (None, 14, 14, 512)      4608      \n",
      "                                                                 \n",
      " conv_dw_8_bn (BatchNormaliz  (None, 14, 14, 512)      2048      \n",
      " ation)                                                          \n",
      "                                                                 \n",
      " conv_dw_8_relu (ReLU)       (None, 14, 14, 512)       0         \n",
      "                                                                 \n",
      " conv_pw_8 (Conv2D)          (None, 14, 14, 512)       262144    \n",
      "                                                                 \n",
      " conv_pw_8_bn (BatchNormaliz  (None, 14, 14, 512)      2048      \n",
      " ation)                                                          \n",
      "                                                                 \n",
      " conv_pw_8_relu (ReLU)       (None, 14, 14, 512)       0         \n",
      "                                                                 \n",
      " conv_dw_9 (DepthwiseConv2D)  (None, 14, 14, 512)      4608      \n",
      "                                                                 \n",
      " conv_dw_9_bn (BatchNormaliz  (None, 14, 14, 512)      2048      \n",
      " ation)                                                          \n",
      "                                                                 \n",
      " conv_dw_9_relu (ReLU)       (None, 14, 14, 512)       0         \n",
      "                                                                 \n",
      " conv_pw_9 (Conv2D)          (None, 14, 14, 512)       262144    \n",
      "                                                                 \n",
      " conv_pw_9_bn (BatchNormaliz  (None, 14, 14, 512)      2048      \n",
      " ation)                                                          \n",
      "                                                                 \n",
      " conv_pw_9_relu (ReLU)       (None, 14, 14, 512)       0         \n",
      "                                                                 \n",
      " conv_dw_10 (DepthwiseConv2D  (None, 14, 14, 512)      4608      \n",
      " )                                                               \n",
      "                                                                 \n",
      " conv_dw_10_bn (BatchNormali  (None, 14, 14, 512)      2048      \n",
      " zation)                                                         \n",
      "                                                                 \n",
      " conv_dw_10_relu (ReLU)      (None, 14, 14, 512)       0         \n",
      "                                                                 \n",
      " conv_pw_10 (Conv2D)         (None, 14, 14, 512)       262144    \n",
      "                                                                 \n",
      " conv_pw_10_bn (BatchNormali  (None, 14, 14, 512)      2048      \n",
      " zation)                                                         \n",
      "                                                                 \n",
      " conv_pw_10_relu (ReLU)      (None, 14, 14, 512)       0         \n",
      "                                                                 \n",
      " conv_dw_11 (DepthwiseConv2D  (None, 14, 14, 512)      4608      \n",
      " )                                                               \n",
      "                                                                 \n",
      " conv_dw_11_bn (BatchNormali  (None, 14, 14, 512)      2048      \n",
      " zation)                                                         \n",
      "                                                                 \n",
      " conv_dw_11_relu (ReLU)      (None, 14, 14, 512)       0         \n",
      "                                                                 \n",
      " conv_pw_11 (Conv2D)         (None, 14, 14, 512)       262144    \n",
      "                                                                 \n",
      " conv_pw_11_bn (BatchNormali  (None, 14, 14, 512)      2048      \n",
      " zation)                                                         \n",
      "                                                                 \n",
      " conv_pw_11_relu (ReLU)      (None, 14, 14, 512)       0         \n",
      "                                                                 \n",
      " conv_pad_12 (ZeroPadding2D)  (None, 15, 15, 512)      0         \n",
      "                                                                 \n",
      " conv_dw_12 (DepthwiseConv2D  (None, 7, 7, 512)        4608      \n",
      " )                                                               \n",
      "                                                                 \n",
      " conv_dw_12_bn (BatchNormali  (None, 7, 7, 512)        2048      \n",
      " zation)                                                         \n",
      "                                                                 \n",
      " conv_dw_12_relu (ReLU)      (None, 7, 7, 512)         0         \n",
      "                                                                 \n",
      " conv_pw_12 (Conv2D)         (None, 7, 7, 1024)        524288    \n",
      "                                                                 \n",
      " conv_pw_12_bn (BatchNormali  (None, 7, 7, 1024)       4096      \n",
      " zation)                                                         \n",
      "                                                                 \n",
      " conv_pw_12_relu (ReLU)      (None, 7, 7, 1024)        0         \n",
      "                                                                 \n",
      " conv_dw_13 (DepthwiseConv2D  (None, 7, 7, 1024)       9216      \n",
      " )                                                               \n",
      "                                                                 \n",
      " conv_dw_13_bn (BatchNormali  (None, 7, 7, 1024)       4096      \n",
      " zation)                                                         \n",
      "                                                                 \n",
      " conv_dw_13_relu (ReLU)      (None, 7, 7, 1024)        0         \n",
      "                                                                 \n",
      " conv_pw_13 (Conv2D)         (None, 7, 7, 1024)        1048576   \n",
      "                                                                 \n",
      " conv_pw_13_bn (BatchNormali  (None, 7, 7, 1024)       4096      \n",
      " zation)                                                         \n",
      "                                                                 \n",
      " conv_pw_13_relu (ReLU)      (None, 7, 7, 1024)        0         \n",
      "                                                                 \n",
      " global_average_pooling2d (G  (None, 1, 1, 1024)       0         \n",
      " lobalAveragePooling2D)                                          \n",
      "                                                                 \n",
      " reshape (Reshape)           (None, 1024)              0         \n",
      "                                                                 \n",
      " dropout (Dropout)           (None, 1024)              0         \n",
      "                                                                 \n",
      " dense (Dense)               (None, 549)               562725    \n",
      "                                                                 \n",
      "=================================================================\n",
      "Total params: 3,791,589\n",
      "Trainable params: 562,725\n",
      "Non-trainable params: 3,228,864\n",
      "_________________________________________________________________\n"
     ]
    }
   ],
   "source": [
    "model.summary()"
   ]
  },
  {
   "cell_type": "code",
   "execution_count": 17,
   "metadata": {
    "id": "-y2jNkktwcre"
   },
   "outputs": [],
   "source": [
    "model.compile(optimizer=Adam(learning_rate=0.0001), loss='categorical_crossentropy', metrics=['accuracy'])"
   ]
  },
  {
   "cell_type": "code",
   "execution_count": 18,
   "metadata": {
    "id": "1M3tg7Vcwek8"
   },
   "outputs": [],
   "source": [
    "# earlystopping\n",
    "callback = [keras.callbacks.EarlyStopping(monitor='val_loss', patience=2),\n",
    "         ModelCheckpoint(filepath='model/model_group_mobile_04', monitor='val_loss', save_best_only=True)]"
   ]
  },
  {
   "cell_type": "code",
   "execution_count": 19,
   "metadata": {
    "colab": {
     "base_uri": "https://localhost:8080/"
    },
    "id": "qfnmem7wwgWM",
    "outputId": "d741180a-0c2c-4d8c-95b9-810ca61e4761"
   },
   "outputs": [
    {
     "name": "stdout",
     "output_type": "stream",
     "text": [
      "Epoch 1/20\n",
      " 55/470 [==>...........................] - ETA: 15:03 - loss: 6.8705 - accuracy: 0.0020"
     ]
    },
    {
     "name": "stderr",
     "output_type": "stream",
     "text": [
      "C:\\Users\\chonl\\anaconda3\\envs\\py39\\lib\\site-packages\\PIL\\Image.py:1000: UserWarning: Palette images with Transparency expressed in bytes should be converted to RGBA images\n",
      "  warnings.warn(\n"
     ]
    },
    {
     "name": "stdout",
     "output_type": "stream",
     "text": [
      "307/470 [==================>...........] - ETA: 6:01 - loss: 6.3170 - accuracy: 0.0107"
     ]
    },
    {
     "name": "stderr",
     "output_type": "stream",
     "text": [
      "C:\\Users\\chonl\\anaconda3\\envs\\py39\\lib\\site-packages\\PIL\\TiffImagePlugin.py:890: UserWarning: Corrupt EXIF data.  Expecting to read 2 bytes but only got 0. \n",
      "  warnings.warn(str(msg))\n"
     ]
    },
    {
     "name": "stdout",
     "output_type": "stream",
     "text": [
      "423/470 [==========================>...] - ETA: 1:44 - loss: 6.1457 - accuracy: 0.0181"
     ]
    },
    {
     "name": "stderr",
     "output_type": "stream",
     "text": [
      "C:\\Users\\chonl\\anaconda3\\envs\\py39\\lib\\site-packages\\PIL\\Image.py:1000: UserWarning: Palette images with Transparency expressed in bytes should be converted to RGBA images\n",
      "  warnings.warn(\n"
     ]
    },
    {
     "name": "stdout",
     "output_type": "stream",
     "text": [
      "470/470 [==============================] - ETA: 0s - loss: 6.0806 - accuracy: 0.0218"
     ]
    },
    {
     "name": "stderr",
     "output_type": "stream",
     "text": [
      "C:\\Users\\chonl\\anaconda3\\envs\\py39\\lib\\site-packages\\PIL\\Image.py:1000: UserWarning: Palette images with Transparency expressed in bytes should be converted to RGBA images\n",
      "  warnings.warn(\n"
     ]
    },
    {
     "name": "stdout",
     "output_type": "stream",
     "text": [
      "INFO:tensorflow:Assets written to: model\\model_group_mobile_04\\assets\n",
      "470/470 [==============================] - 1235s 3s/step - loss: 6.0806 - accuracy: 0.0218 - val_loss: 5.1966 - val_accuracy: 0.1001\n",
      "Epoch 2/20\n",
      "115/470 [======>.......................] - ETA: 12:26 - loss: 5.2710 - accuracy: 0.0806"
     ]
    },
    {
     "name": "stderr",
     "output_type": "stream",
     "text": [
      "C:\\Users\\chonl\\anaconda3\\envs\\py39\\lib\\site-packages\\PIL\\TiffImagePlugin.py:890: UserWarning: Corrupt EXIF data.  Expecting to read 2 bytes but only got 0. \n",
      "  warnings.warn(str(msg))\n"
     ]
    },
    {
     "name": "stdout",
     "output_type": "stream",
     "text": [
      "234/470 [=============>................] - ETA: 8:31 - loss: 5.1429 - accuracy: 0.0938"
     ]
    },
    {
     "name": "stderr",
     "output_type": "stream",
     "text": [
      "C:\\Users\\chonl\\anaconda3\\envs\\py39\\lib\\site-packages\\PIL\\Image.py:1000: UserWarning: Palette images with Transparency expressed in bytes should be converted to RGBA images\n",
      "  warnings.warn(\n"
     ]
    },
    {
     "name": "stdout",
     "output_type": "stream",
     "text": [
      "464/470 [============================>.] - ETA: 13s - loss: 4.9319 - accuracy: 0.1243"
     ]
    },
    {
     "name": "stderr",
     "output_type": "stream",
     "text": [
      "C:\\Users\\chonl\\anaconda3\\envs\\py39\\lib\\site-packages\\PIL\\Image.py:1000: UserWarning: Palette images with Transparency expressed in bytes should be converted to RGBA images\n",
      "  warnings.warn(\n"
     ]
    },
    {
     "name": "stdout",
     "output_type": "stream",
     "text": [
      "470/470 [==============================] - ETA: 0s - loss: 4.9263 - accuracy: 0.1251"
     ]
    },
    {
     "name": "stderr",
     "output_type": "stream",
     "text": [
      "C:\\Users\\chonl\\anaconda3\\envs\\py39\\lib\\site-packages\\PIL\\Image.py:1000: UserWarning: Palette images with Transparency expressed in bytes should be converted to RGBA images\n",
      "  warnings.warn(\n"
     ]
    },
    {
     "name": "stdout",
     "output_type": "stream",
     "text": [
      "INFO:tensorflow:Assets written to: model\\model_group_mobile_04\\assets\n",
      "470/470 [==============================] - 1277s 3s/step - loss: 4.9263 - accuracy: 0.1251 - val_loss: 4.2558 - val_accuracy: 0.2617\n",
      "Epoch 3/20\n",
      " 49/470 [==>...........................] - ETA: 15:31 - loss: 4.3952 - accuracy: 0.1982"
     ]
    },
    {
     "name": "stderr",
     "output_type": "stream",
     "text": [
      "C:\\Users\\chonl\\anaconda3\\envs\\py39\\lib\\site-packages\\PIL\\Image.py:1000: UserWarning: Palette images with Transparency expressed in bytes should be converted to RGBA images\n",
      "  warnings.warn(\n"
     ]
    },
    {
     "name": "stdout",
     "output_type": "stream",
     "text": [
      "155/470 [========>.....................] - ETA: 11:26 - loss: 4.3521 - accuracy: 0.2063"
     ]
    },
    {
     "name": "stderr",
     "output_type": "stream",
     "text": [
      "C:\\Users\\chonl\\anaconda3\\envs\\py39\\lib\\site-packages\\PIL\\TiffImagePlugin.py:890: UserWarning: Corrupt EXIF data.  Expecting to read 2 bytes but only got 0. \n",
      "  warnings.warn(str(msg))\n"
     ]
    },
    {
     "name": "stdout",
     "output_type": "stream",
     "text": [
      "426/470 [==========================>...] - ETA: 1:34 - loss: 4.1722 - accuracy: 0.2378"
     ]
    },
    {
     "name": "stderr",
     "output_type": "stream",
     "text": [
      "C:\\Users\\chonl\\anaconda3\\envs\\py39\\lib\\site-packages\\PIL\\Image.py:1000: UserWarning: Palette images with Transparency expressed in bytes should be converted to RGBA images\n",
      "  warnings.warn(\n"
     ]
    },
    {
     "name": "stdout",
     "output_type": "stream",
     "text": [
      "470/470 [==============================] - ETA: 0s - loss: 4.1414 - accuracy: 0.2432"
     ]
    },
    {
     "name": "stderr",
     "output_type": "stream",
     "text": [
      "C:\\Users\\chonl\\anaconda3\\envs\\py39\\lib\\site-packages\\PIL\\Image.py:1000: UserWarning: Palette images with Transparency expressed in bytes should be converted to RGBA images\n",
      "  warnings.warn(\n"
     ]
    },
    {
     "name": "stdout",
     "output_type": "stream",
     "text": [
      "INFO:tensorflow:Assets written to: model\\model_group_mobile_04\\assets\n",
      "470/470 [==============================] - 1212s 3s/step - loss: 4.1414 - accuracy: 0.2432 - val_loss: 3.5770 - val_accuracy: 0.3888\n",
      "Epoch 4/20\n",
      "309/470 [==================>...........] - ETA: 5:53 - loss: 3.6344 - accuracy: 0.3296"
     ]
    },
    {
     "name": "stderr",
     "output_type": "stream",
     "text": [
      "C:\\Users\\chonl\\anaconda3\\envs\\py39\\lib\\site-packages\\PIL\\Image.py:1000: UserWarning: Palette images with Transparency expressed in bytes should be converted to RGBA images\n",
      "  warnings.warn(\n"
     ]
    },
    {
     "name": "stdout",
     "output_type": "stream",
     "text": [
      "334/470 [====================>.........] - ETA: 4:58 - loss: 3.6221 - accuracy: 0.3322"
     ]
    },
    {
     "name": "stderr",
     "output_type": "stream",
     "text": [
      "C:\\Users\\chonl\\anaconda3\\envs\\py39\\lib\\site-packages\\PIL\\TiffImagePlugin.py:890: UserWarning: Corrupt EXIF data.  Expecting to read 2 bytes but only got 0. \n",
      "  warnings.warn(str(msg))\n"
     ]
    },
    {
     "name": "stdout",
     "output_type": "stream",
     "text": [
      "467/470 [============================>.] - ETA: 6s - loss: 3.5546 - accuracy: 0.3443"
     ]
    },
    {
     "name": "stderr",
     "output_type": "stream",
     "text": [
      "C:\\Users\\chonl\\anaconda3\\envs\\py39\\lib\\site-packages\\PIL\\Image.py:1000: UserWarning: Palette images with Transparency expressed in bytes should be converted to RGBA images\n",
      "  warnings.warn(\n"
     ]
    },
    {
     "name": "stdout",
     "output_type": "stream",
     "text": [
      "470/470 [==============================] - ETA: 0s - loss: 3.5539 - accuracy: 0.3444"
     ]
    },
    {
     "name": "stderr",
     "output_type": "stream",
     "text": [
      "C:\\Users\\chonl\\anaconda3\\envs\\py39\\lib\\site-packages\\PIL\\Image.py:1000: UserWarning: Palette images with Transparency expressed in bytes should be converted to RGBA images\n",
      "  warnings.warn(\n"
     ]
    },
    {
     "name": "stdout",
     "output_type": "stream",
     "text": [
      "INFO:tensorflow:Assets written to: model\\model_group_mobile_04\\assets\n",
      "470/470 [==============================] - 1237s 3s/step - loss: 3.5539 - accuracy: 0.3444 - val_loss: 3.0801 - val_accuracy: 0.4681\n",
      "Epoch 5/20\n",
      " 37/470 [=>............................] - ETA: 15:26 - loss: 3.3132 - accuracy: 0.4008"
     ]
    },
    {
     "name": "stderr",
     "output_type": "stream",
     "text": [
      "C:\\Users\\chonl\\anaconda3\\envs\\py39\\lib\\site-packages\\PIL\\Image.py:1000: UserWarning: Palette images with Transparency expressed in bytes should be converted to RGBA images\n",
      "  warnings.warn(\n"
     ]
    },
    {
     "name": "stdout",
     "output_type": "stream",
     "text": [
      " 44/470 [=>............................] - ETA: 15:13 - loss: 3.3048 - accuracy: 0.4027"
     ]
    },
    {
     "name": "stderr",
     "output_type": "stream",
     "text": [
      "C:\\Users\\chonl\\anaconda3\\envs\\py39\\lib\\site-packages\\PIL\\TiffImagePlugin.py:890: UserWarning: Corrupt EXIF data.  Expecting to read 2 bytes but only got 0. \n",
      "  warnings.warn(str(msg))\n"
     ]
    },
    {
     "name": "stdout",
     "output_type": "stream",
     "text": [
      "230/470 [=============>................] - ETA: 8:41 - loss: 3.1961 - accuracy: 0.4139"
     ]
    },
    {
     "name": "stderr",
     "output_type": "stream",
     "text": [
      "C:\\Users\\chonl\\anaconda3\\envs\\py39\\lib\\site-packages\\PIL\\Image.py:1000: UserWarning: Palette images with Transparency expressed in bytes should be converted to RGBA images\n",
      "  warnings.warn(\n"
     ]
    },
    {
     "name": "stdout",
     "output_type": "stream",
     "text": [
      "470/470 [==============================] - ETA: 0s - loss: 3.1126 - accuracy: 0.4251"
     ]
    },
    {
     "name": "stderr",
     "output_type": "stream",
     "text": [
      "C:\\Users\\chonl\\anaconda3\\envs\\py39\\lib\\site-packages\\PIL\\Image.py:1000: UserWarning: Palette images with Transparency expressed in bytes should be converted to RGBA images\n",
      "  warnings.warn(\n"
     ]
    },
    {
     "name": "stdout",
     "output_type": "stream",
     "text": [
      "INFO:tensorflow:Assets written to: model\\model_group_mobile_04\\assets\n",
      "470/470 [==============================] - 1231s 3s/step - loss: 3.1126 - accuracy: 0.4251 - val_loss: 2.7135 - val_accuracy: 0.5303\n",
      "Epoch 6/20\n",
      " 53/470 [==>...........................] - ETA: 15:02 - loss: 2.8890 - accuracy: 0.4606"
     ]
    },
    {
     "name": "stderr",
     "output_type": "stream",
     "text": [
      "C:\\Users\\chonl\\anaconda3\\envs\\py39\\lib\\site-packages\\PIL\\TiffImagePlugin.py:890: UserWarning: Corrupt EXIF data.  Expecting to read 2 bytes but only got 0. \n",
      "  warnings.warn(str(msg))\n"
     ]
    },
    {
     "name": "stdout",
     "output_type": "stream",
     "text": [
      " 77/470 [===>..........................] - ETA: 14:11 - loss: 2.8935 - accuracy: 0.4621"
     ]
    },
    {
     "name": "stderr",
     "output_type": "stream",
     "text": [
      "C:\\Users\\chonl\\anaconda3\\envs\\py39\\lib\\site-packages\\PIL\\Image.py:1000: UserWarning: Palette images with Transparency expressed in bytes should be converted to RGBA images\n",
      "  warnings.warn(\n"
     ]
    },
    {
     "name": "stdout",
     "output_type": "stream",
     "text": [
      "138/470 [=======>......................] - ETA: 11:57 - loss: 2.8650 - accuracy: 0.4703"
     ]
    },
    {
     "name": "stderr",
     "output_type": "stream",
     "text": [
      "C:\\Users\\chonl\\anaconda3\\envs\\py39\\lib\\site-packages\\PIL\\Image.py:1000: UserWarning: Palette images with Transparency expressed in bytes should be converted to RGBA images\n",
      "  warnings.warn(\n"
     ]
    },
    {
     "name": "stdout",
     "output_type": "stream",
     "text": [
      "470/470 [==============================] - ETA: 0s - loss: 2.7736 - accuracy: 0.4842"
     ]
    },
    {
     "name": "stderr",
     "output_type": "stream",
     "text": [
      "C:\\Users\\chonl\\anaconda3\\envs\\py39\\lib\\site-packages\\PIL\\Image.py:1000: UserWarning: Palette images with Transparency expressed in bytes should be converted to RGBA images\n",
      "  warnings.warn(\n"
     ]
    },
    {
     "name": "stdout",
     "output_type": "stream",
     "text": [
      "INFO:tensorflow:Assets written to: model\\model_group_mobile_04\\assets\n",
      "470/470 [==============================] - 1230s 3s/step - loss: 2.7736 - accuracy: 0.4842 - val_loss: 2.4377 - val_accuracy: 0.5697\n",
      "Epoch 7/20\n",
      " 45/470 [=>............................] - ETA: 15:25 - loss: 2.5883 - accuracy: 0.5109"
     ]
    },
    {
     "name": "stderr",
     "output_type": "stream",
     "text": [
      "C:\\Users\\chonl\\anaconda3\\envs\\py39\\lib\\site-packages\\PIL\\Image.py:1000: UserWarning: Palette images with Transparency expressed in bytes should be converted to RGBA images\n",
      "  warnings.warn(\n"
     ]
    },
    {
     "name": "stdout",
     "output_type": "stream",
     "text": [
      "239/470 [==============>...............] - ETA: 8:23 - loss: 2.5504 - accuracy: 0.5196"
     ]
    },
    {
     "name": "stderr",
     "output_type": "stream",
     "text": [
      "C:\\Users\\chonl\\anaconda3\\envs\\py39\\lib\\site-packages\\PIL\\TiffImagePlugin.py:890: UserWarning: Corrupt EXIF data.  Expecting to read 2 bytes but only got 0. \n",
      "  warnings.warn(str(msg))\n"
     ]
    },
    {
     "name": "stdout",
     "output_type": "stream",
     "text": [
      "336/470 [====================>.........] - ETA: 4:52 - loss: 2.5290 - accuracy: 0.5237"
     ]
    },
    {
     "name": "stderr",
     "output_type": "stream",
     "text": [
      "C:\\Users\\chonl\\anaconda3\\envs\\py39\\lib\\site-packages\\PIL\\Image.py:1000: UserWarning: Palette images with Transparency expressed in bytes should be converted to RGBA images\n",
      "  warnings.warn(\n"
     ]
    },
    {
     "name": "stdout",
     "output_type": "stream",
     "text": [
      "470/470 [==============================] - ETA: 0s - loss: 2.5052 - accuracy: 0.5269"
     ]
    },
    {
     "name": "stderr",
     "output_type": "stream",
     "text": [
      "C:\\Users\\chonl\\anaconda3\\envs\\py39\\lib\\site-packages\\PIL\\Image.py:1000: UserWarning: Palette images with Transparency expressed in bytes should be converted to RGBA images\n",
      "  warnings.warn(\n"
     ]
    },
    {
     "name": "stdout",
     "output_type": "stream",
     "text": [
      "INFO:tensorflow:Assets written to: model\\model_group_mobile_04\\assets\n",
      "470/470 [==============================] - 1231s 3s/step - loss: 2.5052 - accuracy: 0.5269 - val_loss: 2.2173 - val_accuracy: 0.5976\n",
      "Epoch 8/20\n",
      " 89/470 [====>.........................] - ETA: 13:47 - loss: 2.3641 - accuracy: 0.5579"
     ]
    },
    {
     "name": "stderr",
     "output_type": "stream",
     "text": [
      "C:\\Users\\chonl\\anaconda3\\envs\\py39\\lib\\site-packages\\PIL\\TiffImagePlugin.py:890: UserWarning: Corrupt EXIF data.  Expecting to read 2 bytes but only got 0. \n",
      "  warnings.warn(str(msg))\n"
     ]
    },
    {
     "name": "stdout",
     "output_type": "stream",
     "text": [
      "429/470 [==========================>...] - ETA: 1:29 - loss: 2.3043 - accuracy: 0.5677"
     ]
    },
    {
     "name": "stderr",
     "output_type": "stream",
     "text": [
      "C:\\Users\\chonl\\anaconda3\\envs\\py39\\lib\\site-packages\\PIL\\Image.py:1000: UserWarning: Palette images with Transparency expressed in bytes should be converted to RGBA images\n",
      "  warnings.warn(\n"
     ]
    },
    {
     "name": "stdout",
     "output_type": "stream",
     "text": [
      "465/470 [============================>.] - ETA: 10s - loss: 2.2967 - accuracy: 0.5686"
     ]
    },
    {
     "name": "stderr",
     "output_type": "stream",
     "text": [
      "C:\\Users\\chonl\\anaconda3\\envs\\py39\\lib\\site-packages\\PIL\\Image.py:1000: UserWarning: Palette images with Transparency expressed in bytes should be converted to RGBA images\n",
      "  warnings.warn(\n"
     ]
    },
    {
     "name": "stdout",
     "output_type": "stream",
     "text": [
      "470/470 [==============================] - ETA: 0s - loss: 2.2963 - accuracy: 0.5683"
     ]
    },
    {
     "name": "stderr",
     "output_type": "stream",
     "text": [
      "C:\\Users\\chonl\\anaconda3\\envs\\py39\\lib\\site-packages\\PIL\\Image.py:1000: UserWarning: Palette images with Transparency expressed in bytes should be converted to RGBA images\n",
      "  warnings.warn(\n"
     ]
    },
    {
     "name": "stdout",
     "output_type": "stream",
     "text": [
      "INFO:tensorflow:Assets written to: model\\model_group_mobile_04\\assets\n",
      "470/470 [==============================] - 1228s 3s/step - loss: 2.2963 - accuracy: 0.5683 - val_loss: 2.0529 - val_accuracy: 0.6227\n",
      "Epoch 9/20\n",
      " 80/470 [====>.........................] - ETA: 13:53 - loss: 2.1729 - accuracy: 0.5880"
     ]
    },
    {
     "name": "stderr",
     "output_type": "stream",
     "text": [
      "C:\\Users\\chonl\\anaconda3\\envs\\py39\\lib\\site-packages\\PIL\\Image.py:1000: UserWarning: Palette images with Transparency expressed in bytes should be converted to RGBA images\n",
      "  warnings.warn(\n"
     ]
    },
    {
     "name": "stdout",
     "output_type": "stream",
     "text": [
      "169/470 [=========>....................] - ETA: 10:50 - loss: 2.1486 - accuracy: 0.5905"
     ]
    },
    {
     "name": "stderr",
     "output_type": "stream",
     "text": [
      "C:\\Users\\chonl\\anaconda3\\envs\\py39\\lib\\site-packages\\PIL\\TiffImagePlugin.py:890: UserWarning: Corrupt EXIF data.  Expecting to read 2 bytes but only got 0. \n",
      "  warnings.warn(str(msg))\n"
     ]
    },
    {
     "name": "stdout",
     "output_type": "stream",
     "text": [
      "214/470 [============>.................] - ETA: 9:15 - loss: 2.1369 - accuracy: 0.5919"
     ]
    },
    {
     "name": "stderr",
     "output_type": "stream",
     "text": [
      "C:\\Users\\chonl\\anaconda3\\envs\\py39\\lib\\site-packages\\PIL\\Image.py:1000: UserWarning: Palette images with Transparency expressed in bytes should be converted to RGBA images\n",
      "  warnings.warn(\n"
     ]
    },
    {
     "name": "stdout",
     "output_type": "stream",
     "text": [
      "470/470 [==============================] - ETA: 0s - loss: 2.1081 - accuracy: 0.5947"
     ]
    },
    {
     "name": "stderr",
     "output_type": "stream",
     "text": [
      "C:\\Users\\chonl\\anaconda3\\envs\\py39\\lib\\site-packages\\PIL\\Image.py:1000: UserWarning: Palette images with Transparency expressed in bytes should be converted to RGBA images\n",
      "  warnings.warn(\n"
     ]
    },
    {
     "name": "stdout",
     "output_type": "stream",
     "text": [
      "INFO:tensorflow:Assets written to: model\\model_group_mobile_04\\assets\n",
      "470/470 [==============================] - 1225s 3s/step - loss: 2.1081 - accuracy: 0.5947 - val_loss: 1.9060 - val_accuracy: 0.6419\n",
      "Epoch 10/20\n",
      "  6/470 [..............................] - ETA: 17:23 - loss: 2.0592 - accuracy: 0.6113"
     ]
    },
    {
     "name": "stderr",
     "output_type": "stream",
     "text": [
      "C:\\Users\\chonl\\anaconda3\\envs\\py39\\lib\\site-packages\\PIL\\Image.py:1000: UserWarning: Palette images with Transparency expressed in bytes should be converted to RGBA images\n",
      "  warnings.warn(\n"
     ]
    },
    {
     "name": "stdout",
     "output_type": "stream",
     "text": [
      " 22/470 [>.............................] - ETA: 16:25 - loss: 2.0107 - accuracy: 0.6155"
     ]
    },
    {
     "name": "stderr",
     "output_type": "stream",
     "text": [
      "C:\\Users\\chonl\\anaconda3\\envs\\py39\\lib\\site-packages\\PIL\\Image.py:1000: UserWarning: Palette images with Transparency expressed in bytes should be converted to RGBA images\n",
      "  warnings.warn(\n"
     ]
    },
    {
     "name": "stdout",
     "output_type": "stream",
     "text": [
      "285/470 [=================>............] - ETA: 6:47 - loss: 1.9963 - accuracy: 0.6176"
     ]
    },
    {
     "name": "stderr",
     "output_type": "stream",
     "text": [
      "C:\\Users\\chonl\\anaconda3\\envs\\py39\\lib\\site-packages\\PIL\\TiffImagePlugin.py:890: UserWarning: Corrupt EXIF data.  Expecting to read 2 bytes but only got 0. \n",
      "  warnings.warn(str(msg))\n"
     ]
    },
    {
     "name": "stdout",
     "output_type": "stream",
     "text": [
      "470/470 [==============================] - ETA: 0s - loss: 1.9679 - accuracy: 0.6203"
     ]
    },
    {
     "name": "stderr",
     "output_type": "stream",
     "text": [
      "C:\\Users\\chonl\\anaconda3\\envs\\py39\\lib\\site-packages\\PIL\\Image.py:1000: UserWarning: Palette images with Transparency expressed in bytes should be converted to RGBA images\n",
      "  warnings.warn(\n"
     ]
    },
    {
     "name": "stdout",
     "output_type": "stream",
     "text": [
      "INFO:tensorflow:Assets written to: model\\model_group_mobile_04\\assets\n",
      "470/470 [==============================] - 1239s 3s/step - loss: 1.9679 - accuracy: 0.6203 - val_loss: 1.7996 - val_accuracy: 0.6551\n",
      "Epoch 11/20\n",
      " 27/470 [>.............................] - ETA: 15:56 - loss: 1.9148 - accuracy: 0.6153"
     ]
    },
    {
     "name": "stderr",
     "output_type": "stream",
     "text": [
      "C:\\Users\\chonl\\anaconda3\\envs\\py39\\lib\\site-packages\\PIL\\TiffImagePlugin.py:890: UserWarning: Corrupt EXIF data.  Expecting to read 2 bytes but only got 0. \n",
      "  warnings.warn(str(msg))\n"
     ]
    },
    {
     "name": "stdout",
     "output_type": "stream",
     "text": [
      "194/470 [===========>..................] - ETA: 9:58 - loss: 1.8725 - accuracy: 0.6356 "
     ]
    },
    {
     "name": "stderr",
     "output_type": "stream",
     "text": [
      "C:\\Users\\chonl\\anaconda3\\envs\\py39\\lib\\site-packages\\PIL\\Image.py:1000: UserWarning: Palette images with Transparency expressed in bytes should be converted to RGBA images\n",
      "  warnings.warn(\n"
     ]
    },
    {
     "name": "stdout",
     "output_type": "stream",
     "text": [
      "429/470 [==========================>...] - ETA: 1:29 - loss: 1.8459 - accuracy: 0.6402"
     ]
    },
    {
     "name": "stderr",
     "output_type": "stream",
     "text": [
      "C:\\Users\\chonl\\anaconda3\\envs\\py39\\lib\\site-packages\\PIL\\Image.py:1000: UserWarning: Palette images with Transparency expressed in bytes should be converted to RGBA images\n",
      "  warnings.warn(\n"
     ]
    },
    {
     "name": "stdout",
     "output_type": "stream",
     "text": [
      "470/470 [==============================] - ETA: 0s - loss: 1.8379 - accuracy: 0.6419"
     ]
    },
    {
     "name": "stderr",
     "output_type": "stream",
     "text": [
      "C:\\Users\\chonl\\anaconda3\\envs\\py39\\lib\\site-packages\\PIL\\Image.py:1000: UserWarning: Palette images with Transparency expressed in bytes should be converted to RGBA images\n",
      "  warnings.warn(\n"
     ]
    },
    {
     "name": "stdout",
     "output_type": "stream",
     "text": [
      "INFO:tensorflow:Assets written to: model\\model_group_mobile_04\\assets\n",
      "470/470 [==============================] - 1232s 3s/step - loss: 1.8379 - accuracy: 0.6419 - val_loss: 1.6960 - val_accuracy: 0.6689\n",
      "Epoch 12/20\n",
      " 31/470 [>.............................] - ETA: 16:15 - loss: 1.8072 - accuracy: 0.6528"
     ]
    },
    {
     "name": "stderr",
     "output_type": "stream",
     "text": [
      "C:\\Users\\chonl\\anaconda3\\envs\\py39\\lib\\site-packages\\PIL\\Image.py:1000: UserWarning: Palette images with Transparency expressed in bytes should be converted to RGBA images\n",
      "  warnings.warn(\n"
     ]
    },
    {
     "name": "stdout",
     "output_type": "stream",
     "text": [
      " 79/470 [====>.........................] - ETA: 14:21 - loss: 1.7635 - accuracy: 0.6575"
     ]
    },
    {
     "name": "stderr",
     "output_type": "stream",
     "text": [
      "C:\\Users\\chonl\\anaconda3\\envs\\py39\\lib\\site-packages\\PIL\\Image.py:1000: UserWarning: Palette images with Transparency expressed in bytes should be converted to RGBA images\n",
      "  warnings.warn(\n"
     ]
    },
    {
     "name": "stdout",
     "output_type": "stream",
     "text": [
      "279/470 [================>.............] - ETA: 6:58 - loss: 1.7570 - accuracy: 0.6539"
     ]
    },
    {
     "name": "stderr",
     "output_type": "stream",
     "text": [
      "C:\\Users\\chonl\\anaconda3\\envs\\py39\\lib\\site-packages\\PIL\\TiffImagePlugin.py:890: UserWarning: Corrupt EXIF data.  Expecting to read 2 bytes but only got 0. \n",
      "  warnings.warn(str(msg))\n"
     ]
    },
    {
     "name": "stdout",
     "output_type": "stream",
     "text": [
      "470/470 [==============================] - ETA: 0s - loss: 1.7358 - accuracy: 0.6569"
     ]
    },
    {
     "name": "stderr",
     "output_type": "stream",
     "text": [
      "C:\\Users\\chonl\\anaconda3\\envs\\py39\\lib\\site-packages\\PIL\\Image.py:1000: UserWarning: Palette images with Transparency expressed in bytes should be converted to RGBA images\n",
      "  warnings.warn(\n"
     ]
    },
    {
     "name": "stdout",
     "output_type": "stream",
     "text": [
      "INFO:tensorflow:Assets written to: model\\model_group_mobile_04\\assets\n",
      "470/470 [==============================] - 1238s 3s/step - loss: 1.7358 - accuracy: 0.6569 - val_loss: 1.6220 - val_accuracy: 0.6813\n",
      "Epoch 13/20\n",
      "133/470 [=======>......................] - ETA: 12:19 - loss: 1.6405 - accuracy: 0.6773"
     ]
    },
    {
     "name": "stderr",
     "output_type": "stream",
     "text": [
      "C:\\Users\\chonl\\anaconda3\\envs\\py39\\lib\\site-packages\\PIL\\TiffImagePlugin.py:890: UserWarning: Corrupt EXIF data.  Expecting to read 2 bytes but only got 0. \n",
      "  warnings.warn(str(msg))\n"
     ]
    },
    {
     "name": "stdout",
     "output_type": "stream",
     "text": [
      "192/470 [===========>..................] - ETA: 10:07 - loss: 1.6453 - accuracy: 0.6745"
     ]
    },
    {
     "name": "stderr",
     "output_type": "stream",
     "text": [
      "C:\\Users\\chonl\\anaconda3\\envs\\py39\\lib\\site-packages\\PIL\\Image.py:1000: UserWarning: Palette images with Transparency expressed in bytes should be converted to RGBA images\n",
      "  warnings.warn(\n",
      "C:\\Users\\chonl\\anaconda3\\envs\\py39\\lib\\site-packages\\PIL\\Image.py:1000: UserWarning: Palette images with Transparency expressed in bytes should be converted to RGBA images\n",
      "  warnings.warn(\n"
     ]
    },
    {
     "name": "stdout",
     "output_type": "stream",
     "text": [
      "470/470 [==============================] - ETA: 0s - loss: 1.6392 - accuracy: 0.6752"
     ]
    },
    {
     "name": "stderr",
     "output_type": "stream",
     "text": [
      "C:\\Users\\chonl\\anaconda3\\envs\\py39\\lib\\site-packages\\PIL\\Image.py:1000: UserWarning: Palette images with Transparency expressed in bytes should be converted to RGBA images\n",
      "  warnings.warn(\n"
     ]
    },
    {
     "name": "stdout",
     "output_type": "stream",
     "text": [
      "INFO:tensorflow:Assets written to: model\\model_group_mobile_04\\assets\n",
      "470/470 [==============================] - 1242s 3s/step - loss: 1.6392 - accuracy: 0.6752 - val_loss: 1.5546 - val_accuracy: 0.6857\n",
      "Epoch 14/20\n",
      " 34/470 [=>............................] - ETA: 15:44 - loss: 1.5870 - accuracy: 0.6829"
     ]
    },
    {
     "name": "stderr",
     "output_type": "stream",
     "text": [
      "C:\\Users\\chonl\\anaconda3\\envs\\py39\\lib\\site-packages\\PIL\\TiffImagePlugin.py:890: UserWarning: Corrupt EXIF data.  Expecting to read 2 bytes but only got 0. \n",
      "  warnings.warn(str(msg))\n"
     ]
    },
    {
     "name": "stdout",
     "output_type": "stream",
     "text": [
      "243/470 [==============>...............] - ETA: 8:17 - loss: 1.5884 - accuracy: 0.6842"
     ]
    },
    {
     "name": "stderr",
     "output_type": "stream",
     "text": [
      "C:\\Users\\chonl\\anaconda3\\envs\\py39\\lib\\site-packages\\PIL\\Image.py:1000: UserWarning: Palette images with Transparency expressed in bytes should be converted to RGBA images\n",
      "  warnings.warn(\n"
     ]
    },
    {
     "name": "stdout",
     "output_type": "stream",
     "text": [
      "329/470 [====================>.........] - ETA: 5:09 - loss: 1.5674 - accuracy: 0.6869"
     ]
    },
    {
     "name": "stderr",
     "output_type": "stream",
     "text": [
      "C:\\Users\\chonl\\anaconda3\\envs\\py39\\lib\\site-packages\\PIL\\Image.py:1000: UserWarning: Palette images with Transparency expressed in bytes should be converted to RGBA images\n",
      "  warnings.warn(\n"
     ]
    },
    {
     "name": "stdout",
     "output_type": "stream",
     "text": [
      "470/470 [==============================] - ETA: 0s - loss: 1.5625 - accuracy: 0.6874"
     ]
    },
    {
     "name": "stderr",
     "output_type": "stream",
     "text": [
      "C:\\Users\\chonl\\anaconda3\\envs\\py39\\lib\\site-packages\\PIL\\Image.py:1000: UserWarning: Palette images with Transparency expressed in bytes should be converted to RGBA images\n",
      "  warnings.warn(\n"
     ]
    },
    {
     "name": "stdout",
     "output_type": "stream",
     "text": [
      "INFO:tensorflow:Assets written to: model\\model_group_mobile_04\\assets\n",
      "470/470 [==============================] - 1237s 3s/step - loss: 1.5625 - accuracy: 0.6874 - val_loss: 1.5013 - val_accuracy: 0.6938\n",
      "Epoch 15/20\n",
      "276/470 [================>.............] - ETA: 7:04 - loss: 1.5020 - accuracy: 0.6953"
     ]
    },
    {
     "name": "stderr",
     "output_type": "stream",
     "text": [
      "C:\\Users\\chonl\\anaconda3\\envs\\py39\\lib\\site-packages\\PIL\\Image.py:1000: UserWarning: Palette images with Transparency expressed in bytes should be converted to RGBA images\n",
      "  warnings.warn(\n"
     ]
    },
    {
     "name": "stdout",
     "output_type": "stream",
     "text": [
      "340/470 [====================>.........] - ETA: 4:44 - loss: 1.5000 - accuracy: 0.6953"
     ]
    },
    {
     "name": "stderr",
     "output_type": "stream",
     "text": [
      "C:\\Users\\chonl\\anaconda3\\envs\\py39\\lib\\site-packages\\PIL\\Image.py:1000: UserWarning: Palette images with Transparency expressed in bytes should be converted to RGBA images\n",
      "  warnings.warn(\n"
     ]
    },
    {
     "name": "stdout",
     "output_type": "stream",
     "text": [
      "360/470 [=====================>........] - ETA: 4:00 - loss: 1.4973 - accuracy: 0.6956"
     ]
    },
    {
     "name": "stderr",
     "output_type": "stream",
     "text": [
      "C:\\Users\\chonl\\anaconda3\\envs\\py39\\lib\\site-packages\\PIL\\TiffImagePlugin.py:890: UserWarning: Corrupt EXIF data.  Expecting to read 2 bytes but only got 0. \n",
      "  warnings.warn(str(msg))\n"
     ]
    },
    {
     "name": "stdout",
     "output_type": "stream",
     "text": [
      "470/470 [==============================] - ETA: 0s - loss: 1.4909 - accuracy: 0.6981"
     ]
    },
    {
     "name": "stderr",
     "output_type": "stream",
     "text": [
      "C:\\Users\\chonl\\anaconda3\\envs\\py39\\lib\\site-packages\\PIL\\Image.py:1000: UserWarning: Palette images with Transparency expressed in bytes should be converted to RGBA images\n",
      "  warnings.warn(\n"
     ]
    },
    {
     "name": "stdout",
     "output_type": "stream",
     "text": [
      "INFO:tensorflow:Assets written to: model\\model_group_mobile_04\\assets\n",
      "470/470 [==============================] - 1240s 3s/step - loss: 1.4909 - accuracy: 0.6981 - val_loss: 1.4457 - val_accuracy: 0.7010\n",
      "Epoch 16/20\n",
      " 62/470 [==>...........................] - ETA: 14:55 - loss: 1.4500 - accuracy: 0.7131"
     ]
    },
    {
     "name": "stderr",
     "output_type": "stream",
     "text": [
      "C:\\Users\\chonl\\anaconda3\\envs\\py39\\lib\\site-packages\\PIL\\Image.py:1000: UserWarning: Palette images with Transparency expressed in bytes should be converted to RGBA images\n",
      "  warnings.warn(\n"
     ]
    },
    {
     "name": "stdout",
     "output_type": "stream",
     "text": [
      "168/470 [=========>....................] - ETA: 11:08 - loss: 1.4368 - accuracy: 0.7143"
     ]
    },
    {
     "name": "stderr",
     "output_type": "stream",
     "text": [
      "C:\\Users\\chonl\\anaconda3\\envs\\py39\\lib\\site-packages\\PIL\\TiffImagePlugin.py:890: UserWarning: Corrupt EXIF data.  Expecting to read 2 bytes but only got 0. \n",
      "  warnings.warn(str(msg))\n"
     ]
    },
    {
     "name": "stdout",
     "output_type": "stream",
     "text": [
      "312/470 [==================>...........] - ETA: 5:49 - loss: 1.4318 - accuracy: 0.7114"
     ]
    },
    {
     "name": "stderr",
     "output_type": "stream",
     "text": [
      "C:\\Users\\chonl\\anaconda3\\envs\\py39\\lib\\site-packages\\PIL\\Image.py:1000: UserWarning: Palette images with Transparency expressed in bytes should be converted to RGBA images\n",
      "  warnings.warn(\n"
     ]
    },
    {
     "name": "stdout",
     "output_type": "stream",
     "text": [
      "470/470 [==============================] - ETA: 0s - loss: 1.4323 - accuracy: 0.7112"
     ]
    },
    {
     "name": "stderr",
     "output_type": "stream",
     "text": [
      "C:\\Users\\chonl\\anaconda3\\envs\\py39\\lib\\site-packages\\PIL\\Image.py:1000: UserWarning: Palette images with Transparency expressed in bytes should be converted to RGBA images\n",
      "  warnings.warn(\n"
     ]
    },
    {
     "name": "stdout",
     "output_type": "stream",
     "text": [
      "INFO:tensorflow:Assets written to: model\\model_group_mobile_04\\assets\n",
      "470/470 [==============================] - 1249s 3s/step - loss: 1.4323 - accuracy: 0.7112 - val_loss: 1.3978 - val_accuracy: 0.7085\n",
      "Epoch 17/20\n",
      "139/470 [=======>......................] - ETA: 12:00 - loss: 1.4007 - accuracy: 0.7170"
     ]
    },
    {
     "name": "stderr",
     "output_type": "stream",
     "text": [
      "C:\\Users\\chonl\\anaconda3\\envs\\py39\\lib\\site-packages\\PIL\\TiffImagePlugin.py:890: UserWarning: Corrupt EXIF data.  Expecting to read 2 bytes but only got 0. \n",
      "  warnings.warn(str(msg))\n"
     ]
    },
    {
     "name": "stdout",
     "output_type": "stream",
     "text": [
      "193/470 [===========>..................] - ETA: 10:03 - loss: 1.3867 - accuracy: 0.7219"
     ]
    },
    {
     "name": "stderr",
     "output_type": "stream",
     "text": [
      "C:\\Users\\chonl\\anaconda3\\envs\\py39\\lib\\site-packages\\PIL\\Image.py:1000: UserWarning: Palette images with Transparency expressed in bytes should be converted to RGBA images\n",
      "  warnings.warn(\n"
     ]
    },
    {
     "name": "stdout",
     "output_type": "stream",
     "text": [
      "378/470 [=======================>......] - ETA: 3:21 - loss: 1.3724 - accuracy: 0.7213"
     ]
    },
    {
     "name": "stderr",
     "output_type": "stream",
     "text": [
      "C:\\Users\\chonl\\anaconda3\\envs\\py39\\lib\\site-packages\\PIL\\Image.py:1000: UserWarning: Palette images with Transparency expressed in bytes should be converted to RGBA images\n",
      "  warnings.warn(\n"
     ]
    },
    {
     "name": "stdout",
     "output_type": "stream",
     "text": [
      "470/470 [==============================] - ETA: 0s - loss: 1.3766 - accuracy: 0.7207"
     ]
    },
    {
     "name": "stderr",
     "output_type": "stream",
     "text": [
      "C:\\Users\\chonl\\anaconda3\\envs\\py39\\lib\\site-packages\\PIL\\Image.py:1000: UserWarning: Palette images with Transparency expressed in bytes should be converted to RGBA images\n",
      "  warnings.warn(\n"
     ]
    },
    {
     "name": "stdout",
     "output_type": "stream",
     "text": [
      "INFO:tensorflow:Assets written to: model\\model_group_mobile_04\\assets\n",
      "470/470 [==============================] - 1234s 3s/step - loss: 1.3766 - accuracy: 0.7207 - val_loss: 1.3603 - val_accuracy: 0.7154\n",
      "Epoch 18/20\n",
      " 53/470 [==>...........................] - ETA: 15:12 - loss: 1.3703 - accuracy: 0.7188"
     ]
    },
    {
     "name": "stderr",
     "output_type": "stream",
     "text": [
      "C:\\Users\\chonl\\anaconda3\\envs\\py39\\lib\\site-packages\\PIL\\Image.py:1000: UserWarning: Palette images with Transparency expressed in bytes should be converted to RGBA images\n",
      "  warnings.warn(\n"
     ]
    },
    {
     "name": "stdout",
     "output_type": "stream",
     "text": [
      " 82/470 [====>.........................] - ETA: 14:10 - loss: 1.3696 - accuracy: 0.7187"
     ]
    },
    {
     "name": "stderr",
     "output_type": "stream",
     "text": [
      "C:\\Users\\chonl\\anaconda3\\envs\\py39\\lib\\site-packages\\PIL\\Image.py:1000: UserWarning: Palette images with Transparency expressed in bytes should be converted to RGBA images\n",
      "  warnings.warn(\n"
     ]
    },
    {
     "name": "stdout",
     "output_type": "stream",
     "text": [
      "202/470 [===========>..................] - ETA: 9:44 - loss: 1.3482 - accuracy: 0.7235"
     ]
    },
    {
     "name": "stderr",
     "output_type": "stream",
     "text": [
      "C:\\Users\\chonl\\anaconda3\\envs\\py39\\lib\\site-packages\\PIL\\TiffImagePlugin.py:890: UserWarning: Corrupt EXIF data.  Expecting to read 2 bytes but only got 0. \n",
      "  warnings.warn(str(msg))\n"
     ]
    },
    {
     "name": "stdout",
     "output_type": "stream",
     "text": [
      "470/470 [==============================] - ETA: 0s - loss: 1.3276 - accuracy: 0.7269"
     ]
    },
    {
     "name": "stderr",
     "output_type": "stream",
     "text": [
      "C:\\Users\\chonl\\anaconda3\\envs\\py39\\lib\\site-packages\\PIL\\Image.py:1000: UserWarning: Palette images with Transparency expressed in bytes should be converted to RGBA images\n",
      "  warnings.warn(\n"
     ]
    },
    {
     "name": "stdout",
     "output_type": "stream",
     "text": [
      "INFO:tensorflow:Assets written to: model\\model_group_mobile_04\\assets\n",
      "470/470 [==============================] - 1237s 3s/step - loss: 1.3276 - accuracy: 0.7269 - val_loss: 1.3242 - val_accuracy: 0.7194\n",
      "Epoch 19/20\n",
      " 11/470 [..............................] - ETA: 16:29 - loss: 1.2995 - accuracy: 0.7204"
     ]
    },
    {
     "name": "stderr",
     "output_type": "stream",
     "text": [
      "C:\\Users\\chonl\\anaconda3\\envs\\py39\\lib\\site-packages\\PIL\\Image.py:1000: UserWarning: Palette images with Transparency expressed in bytes should be converted to RGBA images\n",
      "  warnings.warn(\n"
     ]
    },
    {
     "name": "stdout",
     "output_type": "stream",
     "text": [
      "106/470 [=====>........................] - ETA: 13:02 - loss: 1.2837 - accuracy: 0.7365"
     ]
    },
    {
     "name": "stderr",
     "output_type": "stream",
     "text": [
      "C:\\Users\\chonl\\anaconda3\\envs\\py39\\lib\\site-packages\\PIL\\TiffImagePlugin.py:890: UserWarning: Corrupt EXIF data.  Expecting to read 2 bytes but only got 0. \n",
      "  warnings.warn(str(msg))\n"
     ]
    },
    {
     "name": "stdout",
     "output_type": "stream",
     "text": [
      "364/470 [======================>.......] - ETA: 3:51 - loss: 1.2836 - accuracy: 0.7352"
     ]
    },
    {
     "name": "stderr",
     "output_type": "stream",
     "text": [
      "C:\\Users\\chonl\\anaconda3\\envs\\py39\\lib\\site-packages\\PIL\\Image.py:1000: UserWarning: Palette images with Transparency expressed in bytes should be converted to RGBA images\n",
      "  warnings.warn(\n"
     ]
    },
    {
     "name": "stdout",
     "output_type": "stream",
     "text": [
      "470/470 [==============================] - ETA: 0s - loss: 1.2828 - accuracy: 0.7353"
     ]
    },
    {
     "name": "stderr",
     "output_type": "stream",
     "text": [
      "C:\\Users\\chonl\\anaconda3\\envs\\py39\\lib\\site-packages\\PIL\\Image.py:1000: UserWarning: Palette images with Transparency expressed in bytes should be converted to RGBA images\n",
      "  warnings.warn(\n"
     ]
    },
    {
     "name": "stdout",
     "output_type": "stream",
     "text": [
      "INFO:tensorflow:Assets written to: model\\model_group_mobile_04\\assets\n",
      "470/470 [==============================] - 1234s 3s/step - loss: 1.2828 - accuracy: 0.7353 - val_loss: 1.2864 - val_accuracy: 0.7268\n",
      "Epoch 20/20\n",
      " 95/470 [=====>........................] - ETA: 13:44 - loss: 1.2290 - accuracy: 0.7470"
     ]
    },
    {
     "name": "stderr",
     "output_type": "stream",
     "text": [
      "C:\\Users\\chonl\\anaconda3\\envs\\py39\\lib\\site-packages\\PIL\\TiffImagePlugin.py:890: UserWarning: Corrupt EXIF data.  Expecting to read 2 bytes but only got 0. \n",
      "  warnings.warn(str(msg))\n"
     ]
    },
    {
     "name": "stdout",
     "output_type": "stream",
     "text": [
      "154/470 [========>.....................] - ETA: 11:31 - loss: 1.2410 - accuracy: 0.7438"
     ]
    },
    {
     "name": "stderr",
     "output_type": "stream",
     "text": [
      "C:\\Users\\chonl\\anaconda3\\envs\\py39\\lib\\site-packages\\PIL\\Image.py:1000: UserWarning: Palette images with Transparency expressed in bytes should be converted to RGBA images\n",
      "  warnings.warn(\n"
     ]
    },
    {
     "name": "stdout",
     "output_type": "stream",
     "text": [
      "228/470 [=============>................] - ETA: 8:49 - loss: 1.2417 - accuracy: 0.7436"
     ]
    },
    {
     "name": "stderr",
     "output_type": "stream",
     "text": [
      "C:\\Users\\chonl\\anaconda3\\envs\\py39\\lib\\site-packages\\PIL\\Image.py:1000: UserWarning: Palette images with Transparency expressed in bytes should be converted to RGBA images\n",
      "  warnings.warn(\n"
     ]
    },
    {
     "name": "stdout",
     "output_type": "stream",
     "text": [
      "470/470 [==============================] - ETA: 0s - loss: 1.2310 - accuracy: 0.7433"
     ]
    },
    {
     "name": "stderr",
     "output_type": "stream",
     "text": [
      "C:\\Users\\chonl\\anaconda3\\envs\\py39\\lib\\site-packages\\PIL\\Image.py:1000: UserWarning: Palette images with Transparency expressed in bytes should be converted to RGBA images\n",
      "  warnings.warn(\n"
     ]
    },
    {
     "name": "stdout",
     "output_type": "stream",
     "text": [
      "INFO:tensorflow:Assets written to: model\\model_group_mobile_04\\assets\n",
      "470/470 [==============================] - 1234s 3s/step - loss: 1.2310 - accuracy: 0.7433 - val_loss: 1.2615 - val_accuracy: 0.7259\n"
     ]
    },
    {
     "data": {
      "text/plain": [
       "<keras.callbacks.History at 0x232b939af10>"
      ]
     },
     "execution_count": 19,
     "metadata": {},
     "output_type": "execute_result"
    }
   ],
   "source": [
    "model.fit(x=oversampled_train_generator,\n",
    "            steps_per_epoch=len(oversampled_train_generator),\n",
    "            validation_data=validation_generator,\n",
    "            validation_steps=len(validation_generator),\n",
    "            epochs=20,\n",
    "            verbose=1,\n",
    "            callbacks=callback\n",
    ")"
   ]
  },
  {
   "cell_type": "code",
   "execution_count": 20,
   "metadata": {},
   "outputs": [
    {
     "name": "stdout",
     "output_type": "stream",
     "text": [
      "INFO:tensorflow:Assets written to: model/model_group_mobile_04/before_ft\\assets\n"
     ]
    }
   ],
   "source": [
    "model.save('model/model_group_mobile_04/before_ft')"
   ]
  },
  {
   "cell_type": "code",
   "execution_count": 21,
   "metadata": {},
   "outputs": [],
   "source": [
    "# finetune\n",
    "# unfreeze the base model\n",
    "for layer in mobile.layers:\n",
    "    layer.trainable = True"
   ]
  },
  {
   "cell_type": "code",
   "execution_count": 22,
   "metadata": {},
   "outputs": [],
   "source": [
    "model.compile(optimizer=Adam(learning_rate=1e-5), loss='categorical_crossentropy', metrics=['accuracy'])"
   ]
  },
  {
   "cell_type": "code",
   "execution_count": 26,
   "metadata": {},
   "outputs": [],
   "source": [
    "callback = [keras.callbacks.EarlyStopping(monitor='val_loss', patience=2),\n",
    "         ModelCheckpoint(filepath='model/model_group_mobile_04/ft10+5', monitor='val_loss', save_best_only=True)]"
   ]
  },
  {
   "cell_type": "code",
   "execution_count": null,
   "metadata": {},
   "outputs": [],
   "source": [
    "# finetune 15 epochs "
   ]
  },
  {
   "cell_type": "code",
   "execution_count": 27,
   "metadata": {
    "scrolled": true
   },
   "outputs": [
    {
     "name": "stdout",
     "output_type": "stream",
     "text": [
      "Epoch 1/5\n",
      "163/470 [=========>....................] - ETA: 19:34 - loss: 0.6360 - accuracy: 0.8523"
     ]
    },
    {
     "name": "stderr",
     "output_type": "stream",
     "text": [
      "C:\\Users\\chonl\\anaconda3\\envs\\py39\\lib\\site-packages\\PIL\\Image.py:1000: UserWarning: Palette images with Transparency expressed in bytes should be converted to RGBA images\n",
      "  warnings.warn(\n"
     ]
    },
    {
     "name": "stdout",
     "output_type": "stream",
     "text": [
      "221/470 [=============>................] - ETA: 15:54 - loss: 0.6247 - accuracy: 0.8551"
     ]
    },
    {
     "name": "stderr",
     "output_type": "stream",
     "text": [
      "C:\\Users\\chonl\\anaconda3\\envs\\py39\\lib\\site-packages\\PIL\\TiffImagePlugin.py:890: UserWarning: Corrupt EXIF data.  Expecting to read 2 bytes but only got 0. \n",
      "  warnings.warn(str(msg))\n"
     ]
    },
    {
     "name": "stdout",
     "output_type": "stream",
     "text": [
      "276/470 [================>.............] - ETA: 12:22 - loss: 0.6266 - accuracy: 0.8542"
     ]
    },
    {
     "name": "stderr",
     "output_type": "stream",
     "text": [
      "C:\\Users\\chonl\\anaconda3\\envs\\py39\\lib\\site-packages\\PIL\\Image.py:1000: UserWarning: Palette images with Transparency expressed in bytes should be converted to RGBA images\n",
      "  warnings.warn(\n"
     ]
    },
    {
     "name": "stdout",
     "output_type": "stream",
     "text": [
      "470/470 [==============================] - ETA: 0s - loss: 0.6241 - accuracy: 0.8563"
     ]
    },
    {
     "name": "stderr",
     "output_type": "stream",
     "text": [
      "C:\\Users\\chonl\\anaconda3\\envs\\py39\\lib\\site-packages\\PIL\\Image.py:1000: UserWarning: Palette images with Transparency expressed in bytes should be converted to RGBA images\n",
      "  warnings.warn(\n"
     ]
    },
    {
     "name": "stdout",
     "output_type": "stream",
     "text": [
      "INFO:tensorflow:Assets written to: model/model_group_mobile_04\\ft10+5\\assets\n",
      "470/470 [==============================] - 1991s 4s/step - loss: 0.6241 - accuracy: 0.8563 - val_loss: 0.7968 - val_accuracy: 0.8070\n",
      "Epoch 2/5\n",
      "  7/470 [..............................] - ETA: 30:26 - loss: 0.6273 - accuracy: 0.8462"
     ]
    },
    {
     "name": "stderr",
     "output_type": "stream",
     "text": [
      "C:\\Users\\chonl\\anaconda3\\envs\\py39\\lib\\site-packages\\PIL\\TiffImagePlugin.py:890: UserWarning: Corrupt EXIF data.  Expecting to read 2 bytes but only got 0. \n",
      "  warnings.warn(str(msg))\n"
     ]
    },
    {
     "name": "stdout",
     "output_type": "stream",
     "text": [
      "126/470 [=======>......................] - ETA: 22:15 - loss: 0.6326 - accuracy: 0.8496"
     ]
    },
    {
     "name": "stderr",
     "output_type": "stream",
     "text": [
      "C:\\Users\\chonl\\anaconda3\\envs\\py39\\lib\\site-packages\\PIL\\Image.py:1000: UserWarning: Palette images with Transparency expressed in bytes should be converted to RGBA images\n",
      "  warnings.warn(\n"
     ]
    },
    {
     "name": "stdout",
     "output_type": "stream",
     "text": [
      "320/470 [===================>..........] - ETA: 9:44 - loss: 0.6073 - accuracy: 0.8597"
     ]
    },
    {
     "name": "stderr",
     "output_type": "stream",
     "text": [
      "C:\\Users\\chonl\\anaconda3\\envs\\py39\\lib\\site-packages\\PIL\\Image.py:1000: UserWarning: Palette images with Transparency expressed in bytes should be converted to RGBA images\n",
      "  warnings.warn(\n"
     ]
    },
    {
     "name": "stdout",
     "output_type": "stream",
     "text": [
      "470/470 [==============================] - ETA: 0s - loss: 0.5989 - accuracy: 0.8620"
     ]
    },
    {
     "name": "stderr",
     "output_type": "stream",
     "text": [
      "C:\\Users\\chonl\\anaconda3\\envs\\py39\\lib\\site-packages\\PIL\\Image.py:1000: UserWarning: Palette images with Transparency expressed in bytes should be converted to RGBA images\n",
      "  warnings.warn(\n"
     ]
    },
    {
     "name": "stdout",
     "output_type": "stream",
     "text": [
      "INFO:tensorflow:Assets written to: model/model_group_mobile_04\\ft10+5\\assets\n",
      "470/470 [==============================] - 2023s 4s/step - loss: 0.5989 - accuracy: 0.8620 - val_loss: 0.7875 - val_accuracy: 0.8090\n",
      "Epoch 3/5\n",
      "125/470 [======>.......................] - ETA: 21:40 - loss: 0.5690 - accuracy: 0.8696"
     ]
    },
    {
     "name": "stderr",
     "output_type": "stream",
     "text": [
      "C:\\Users\\chonl\\anaconda3\\envs\\py39\\lib\\site-packages\\PIL\\Image.py:1000: UserWarning: Palette images with Transparency expressed in bytes should be converted to RGBA images\n",
      "  warnings.warn(\n"
     ]
    },
    {
     "name": "stdout",
     "output_type": "stream",
     "text": [
      "139/470 [=======>......................] - ETA: 20:46 - loss: 0.5685 - accuracy: 0.8704"
     ]
    },
    {
     "name": "stderr",
     "output_type": "stream",
     "text": [
      "C:\\Users\\chonl\\anaconda3\\envs\\py39\\lib\\site-packages\\PIL\\TiffImagePlugin.py:890: UserWarning: Corrupt EXIF data.  Expecting to read 2 bytes but only got 0. \n",
      "  warnings.warn(str(msg))\n"
     ]
    },
    {
     "name": "stdout",
     "output_type": "stream",
     "text": [
      "380/470 [=======================>......] - ETA: 5:37 - loss: 0.5797 - accuracy: 0.8659"
     ]
    },
    {
     "name": "stderr",
     "output_type": "stream",
     "text": [
      "C:\\Users\\chonl\\anaconda3\\envs\\py39\\lib\\site-packages\\PIL\\Image.py:1000: UserWarning: Palette images with Transparency expressed in bytes should be converted to RGBA images\n",
      "  warnings.warn(\n"
     ]
    },
    {
     "name": "stdout",
     "output_type": "stream",
     "text": [
      "470/470 [==============================] - ETA: 0s - loss: 0.5800 - accuracy: 0.8655"
     ]
    },
    {
     "name": "stderr",
     "output_type": "stream",
     "text": [
      "C:\\Users\\chonl\\anaconda3\\envs\\py39\\lib\\site-packages\\PIL\\Image.py:1000: UserWarning: Palette images with Transparency expressed in bytes should be converted to RGBA images\n",
      "  warnings.warn(\n"
     ]
    },
    {
     "name": "stdout",
     "output_type": "stream",
     "text": [
      "INFO:tensorflow:Assets written to: model/model_group_mobile_04\\ft10+5\\assets\n",
      "470/470 [==============================] - 1965s 4s/step - loss: 0.5800 - accuracy: 0.8655 - val_loss: 0.7762 - val_accuracy: 0.8111\n",
      "Epoch 4/5\n",
      "287/470 [=================>............] - ETA: 12:12 - loss: 0.5689 - accuracy: 0.8669"
     ]
    },
    {
     "name": "stderr",
     "output_type": "stream",
     "text": [
      "C:\\Users\\chonl\\anaconda3\\envs\\py39\\lib\\site-packages\\PIL\\TiffImagePlugin.py:890: UserWarning: Corrupt EXIF data.  Expecting to read 2 bytes but only got 0. \n",
      "  warnings.warn(str(msg))\n"
     ]
    },
    {
     "name": "stdout",
     "output_type": "stream",
     "text": [
      "329/470 [====================>.........] - ETA: 9:23 - loss: 0.5641 - accuracy: 0.8676"
     ]
    },
    {
     "name": "stderr",
     "output_type": "stream",
     "text": [
      "C:\\Users\\chonl\\anaconda3\\envs\\py39\\lib\\site-packages\\PIL\\Image.py:1000: UserWarning: Palette images with Transparency expressed in bytes should be converted to RGBA images\n",
      "  warnings.warn(\n"
     ]
    },
    {
     "name": "stdout",
     "output_type": "stream",
     "text": [
      "356/470 [=====================>........] - ETA: 7:35 - loss: 0.5630 - accuracy: 0.8676"
     ]
    },
    {
     "name": "stderr",
     "output_type": "stream",
     "text": [
      "C:\\Users\\chonl\\anaconda3\\envs\\py39\\lib\\site-packages\\PIL\\Image.py:1000: UserWarning: Palette images with Transparency expressed in bytes should be converted to RGBA images\n",
      "  warnings.warn(\n"
     ]
    },
    {
     "name": "stdout",
     "output_type": "stream",
     "text": [
      "470/470 [==============================] - ETA: 0s - loss: 0.5620 - accuracy: 0.8684"
     ]
    },
    {
     "name": "stderr",
     "output_type": "stream",
     "text": [
      "C:\\Users\\chonl\\anaconda3\\envs\\py39\\lib\\site-packages\\PIL\\Image.py:1000: UserWarning: Palette images with Transparency expressed in bytes should be converted to RGBA images\n",
      "  warnings.warn(\n"
     ]
    },
    {
     "name": "stdout",
     "output_type": "stream",
     "text": [
      "INFO:tensorflow:Assets written to: model/model_group_mobile_04\\ft10+5\\assets\n",
      "470/470 [==============================] - 2082s 4s/step - loss: 0.5620 - accuracy: 0.8684 - val_loss: 0.7634 - val_accuracy: 0.8184\n",
      "Epoch 5/5\n",
      "106/470 [=====>........................] - ETA: 22:45 - loss: 0.5298 - accuracy: 0.8809"
     ]
    },
    {
     "name": "stderr",
     "output_type": "stream",
     "text": [
      "C:\\Users\\chonl\\anaconda3\\envs\\py39\\lib\\site-packages\\PIL\\Image.py:1000: UserWarning: Palette images with Transparency expressed in bytes should be converted to RGBA images\n",
      "  warnings.warn(\n"
     ]
    },
    {
     "name": "stdout",
     "output_type": "stream",
     "text": [
      "296/470 [=================>............] - ETA: 10:51 - loss: 0.5386 - accuracy: 0.8786"
     ]
    },
    {
     "name": "stderr",
     "output_type": "stream",
     "text": [
      "C:\\Users\\chonl\\anaconda3\\envs\\py39\\lib\\site-packages\\PIL\\Image.py:1000: UserWarning: Palette images with Transparency expressed in bytes should be converted to RGBA images\n",
      "  warnings.warn(\n"
     ]
    },
    {
     "name": "stdout",
     "output_type": "stream",
     "text": [
      "369/470 [======================>.......] - ETA: 6:18 - loss: 0.5399 - accuracy: 0.8772"
     ]
    },
    {
     "name": "stderr",
     "output_type": "stream",
     "text": [
      "C:\\Users\\chonl\\anaconda3\\envs\\py39\\lib\\site-packages\\PIL\\TiffImagePlugin.py:890: UserWarning: Corrupt EXIF data.  Expecting to read 2 bytes but only got 0. \n",
      "  warnings.warn(str(msg))\n"
     ]
    },
    {
     "name": "stdout",
     "output_type": "stream",
     "text": [
      "470/470 [==============================] - ETA: 0s - loss: 0.5431 - accuracy: 0.8767"
     ]
    },
    {
     "name": "stderr",
     "output_type": "stream",
     "text": [
      "C:\\Users\\chonl\\anaconda3\\envs\\py39\\lib\\site-packages\\PIL\\Image.py:1000: UserWarning: Palette images with Transparency expressed in bytes should be converted to RGBA images\n",
      "  warnings.warn(\n"
     ]
    },
    {
     "name": "stdout",
     "output_type": "stream",
     "text": [
      "INFO:tensorflow:Assets written to: model/model_group_mobile_04\\ft10+5\\assets\n",
      "470/470 [==============================] - 1959s 4s/step - loss: 0.5431 - accuracy: 0.8767 - val_loss: 0.7570 - val_accuracy: 0.8157\n"
     ]
    },
    {
     "data": {
      "text/plain": [
       "<keras.callbacks.History at 0x232b92ac370>"
      ]
     },
     "execution_count": 27,
     "metadata": {},
     "output_type": "execute_result"
    }
   ],
   "source": [
    "model.fit(x=oversampled_train_generator,\n",
    "            steps_per_epoch=len(oversampled_train_generator),\n",
    "            validation_data=validation_generator,\n",
    "            validation_steps=len(validation_generator),\n",
    "            epochs=5,\n",
    "            verbose=1,\n",
    "            callbacks=callback\n",
    ")"
   ]
  },
  {
   "cell_type": "code",
   "execution_count": null,
   "metadata": {},
   "outputs": [],
   "source": [
    "# fintune more 5 epochs"
   ]
  },
  {
   "cell_type": "code",
   "execution_count": 30,
   "metadata": {},
   "outputs": [],
   "source": [
    "model.compile(optimizer=Adam(learning_rate=1e-5), loss='categorical_crossentropy', metrics=['accuracy'])"
   ]
  },
  {
   "cell_type": "code",
   "execution_count": 31,
   "metadata": {},
   "outputs": [],
   "source": [
    "callback = [keras.callbacks.EarlyStopping(monitor='val_loss', patience=2),\n",
    "         ModelCheckpoint(filepath='model/model_group_mobile_04/ft10+5+5', monitor='val_loss', save_best_only=True)]"
   ]
  },
  {
   "cell_type": "code",
   "execution_count": 32,
   "metadata": {
    "scrolled": true
   },
   "outputs": [
    {
     "name": "stdout",
     "output_type": "stream",
     "text": [
      "Epoch 1/5\n",
      " 61/470 [==>...........................] - ETA: 27:19 - loss: 0.5475 - accuracy: 0.8729"
     ]
    },
    {
     "name": "stderr",
     "output_type": "stream",
     "text": [
      "C:\\Users\\chonl\\anaconda3\\envs\\py39\\lib\\site-packages\\PIL\\Image.py:1000: UserWarning: Palette images with Transparency expressed in bytes should be converted to RGBA images\n",
      "  warnings.warn(\n"
     ]
    },
    {
     "name": "stdout",
     "output_type": "stream",
     "text": [
      "377/470 [=======================>......] - ETA: 6:33 - loss: 0.5247 - accuracy: 0.8785"
     ]
    },
    {
     "name": "stderr",
     "output_type": "stream",
     "text": [
      "C:\\Users\\chonl\\anaconda3\\envs\\py39\\lib\\site-packages\\PIL\\TiffImagePlugin.py:890: UserWarning: Corrupt EXIF data.  Expecting to read 2 bytes but only got 0. \n",
      "  warnings.warn(str(msg))\n"
     ]
    },
    {
     "name": "stdout",
     "output_type": "stream",
     "text": [
      "397/470 [========================>.....] - ETA: 5:09 - loss: 0.5249 - accuracy: 0.8787"
     ]
    },
    {
     "name": "stderr",
     "output_type": "stream",
     "text": [
      "C:\\Users\\chonl\\anaconda3\\envs\\py39\\lib\\site-packages\\PIL\\Image.py:1000: UserWarning: Palette images with Transparency expressed in bytes should be converted to RGBA images\n",
      "  warnings.warn(\n"
     ]
    },
    {
     "name": "stdout",
     "output_type": "stream",
     "text": [
      "470/470 [==============================] - ETA: 0s - loss: 0.5312 - accuracy: 0.8768"
     ]
    },
    {
     "name": "stderr",
     "output_type": "stream",
     "text": [
      "C:\\Users\\chonl\\anaconda3\\envs\\py39\\lib\\site-packages\\PIL\\Image.py:1000: UserWarning: Palette images with Transparency expressed in bytes should be converted to RGBA images\n",
      "  warnings.warn(\n"
     ]
    },
    {
     "name": "stdout",
     "output_type": "stream",
     "text": [
      "INFO:tensorflow:Assets written to: model/model_group_mobile_04\\ft10+5+5\\assets\n",
      "470/470 [==============================] - 2236s 5s/step - loss: 0.5312 - accuracy: 0.8768 - val_loss: 0.7431 - val_accuracy: 0.8191\n",
      "Epoch 2/5\n",
      " 15/470 [..............................] - ETA: 35:45 - loss: 0.4770 - accuracy: 0.8871"
     ]
    },
    {
     "name": "stderr",
     "output_type": "stream",
     "text": [
      "C:\\Users\\chonl\\anaconda3\\envs\\py39\\lib\\site-packages\\PIL\\Image.py:1000: UserWarning: Palette images with Transparency expressed in bytes should be converted to RGBA images\n",
      "  warnings.warn(\n"
     ]
    },
    {
     "name": "stdout",
     "output_type": "stream",
     "text": [
      "119/470 [======>.......................] - ETA: 24:48 - loss: 0.5203 - accuracy: 0.8843"
     ]
    },
    {
     "name": "stderr",
     "output_type": "stream",
     "text": [
      "C:\\Users\\chonl\\anaconda3\\envs\\py39\\lib\\site-packages\\PIL\\TiffImagePlugin.py:890: UserWarning: Corrupt EXIF data.  Expecting to read 2 bytes but only got 0. \n",
      "  warnings.warn(str(msg))\n"
     ]
    },
    {
     "name": "stdout",
     "output_type": "stream",
     "text": [
      "267/470 [================>.............] - ETA: 13:41 - loss: 0.5096 - accuracy: 0.8852"
     ]
    },
    {
     "name": "stderr",
     "output_type": "stream",
     "text": [
      "C:\\Users\\chonl\\anaconda3\\envs\\py39\\lib\\site-packages\\PIL\\Image.py:1000: UserWarning: Palette images with Transparency expressed in bytes should be converted to RGBA images\n",
      "  warnings.warn(\n"
     ]
    },
    {
     "name": "stdout",
     "output_type": "stream",
     "text": [
      "470/470 [==============================] - ETA: 0s - loss: 0.5132 - accuracy: 0.8831"
     ]
    },
    {
     "name": "stderr",
     "output_type": "stream",
     "text": [
      "C:\\Users\\chonl\\anaconda3\\envs\\py39\\lib\\site-packages\\PIL\\Image.py:1000: UserWarning: Palette images with Transparency expressed in bytes should be converted to RGBA images\n",
      "  warnings.warn(\n"
     ]
    },
    {
     "name": "stdout",
     "output_type": "stream",
     "text": [
      "INFO:tensorflow:Assets written to: model/model_group_mobile_04\\ft10+5+5\\assets\n",
      "470/470 [==============================] - 2205s 5s/step - loss: 0.5132 - accuracy: 0.8831 - val_loss: 0.7408 - val_accuracy: 0.8192\n",
      "Epoch 3/5\n",
      " 33/470 [=>............................] - ETA: 37:16 - loss: 0.4866 - accuracy: 0.8901"
     ]
    },
    {
     "name": "stderr",
     "output_type": "stream",
     "text": [
      "C:\\Users\\chonl\\anaconda3\\envs\\py39\\lib\\site-packages\\PIL\\Image.py:1000: UserWarning: Palette images with Transparency expressed in bytes should be converted to RGBA images\n",
      "  warnings.warn(\n"
     ]
    },
    {
     "name": "stdout",
     "output_type": "stream",
     "text": [
      "276/470 [================>.............] - ETA: 15:56 - loss: 0.4887 - accuracy: 0.8876"
     ]
    },
    {
     "name": "stderr",
     "output_type": "stream",
     "text": [
      "C:\\Users\\chonl\\anaconda3\\envs\\py39\\lib\\site-packages\\PIL\\Image.py:1000: UserWarning: Palette images with Transparency expressed in bytes should be converted to RGBA images\n",
      "  warnings.warn(\n"
     ]
    },
    {
     "name": "stdout",
     "output_type": "stream",
     "text": [
      "308/470 [==================>...........] - ETA: 13:17 - loss: 0.4923 - accuracy: 0.8863"
     ]
    },
    {
     "name": "stderr",
     "output_type": "stream",
     "text": [
      "C:\\Users\\chonl\\anaconda3\\envs\\py39\\lib\\site-packages\\PIL\\TiffImagePlugin.py:890: UserWarning: Corrupt EXIF data.  Expecting to read 2 bytes but only got 0. \n",
      "  warnings.warn(str(msg))\n"
     ]
    },
    {
     "name": "stdout",
     "output_type": "stream",
     "text": [
      "470/470 [==============================] - ETA: 0s - loss: 0.4937 - accuracy: 0.8852"
     ]
    },
    {
     "name": "stderr",
     "output_type": "stream",
     "text": [
      "C:\\Users\\chonl\\anaconda3\\envs\\py39\\lib\\site-packages\\PIL\\Image.py:1000: UserWarning: Palette images with Transparency expressed in bytes should be converted to RGBA images\n",
      "  warnings.warn(\n"
     ]
    },
    {
     "name": "stdout",
     "output_type": "stream",
     "text": [
      "INFO:tensorflow:Assets written to: model/model_group_mobile_04\\ft10+5+5\\assets\n",
      "470/470 [==============================] - 2527s 5s/step - loss: 0.4937 - accuracy: 0.8852 - val_loss: 0.7298 - val_accuracy: 0.8202\n",
      "Epoch 4/5\n",
      " 22/470 [>.............................] - ETA: 35:42 - loss: 0.5093 - accuracy: 0.8819"
     ]
    },
    {
     "name": "stderr",
     "output_type": "stream",
     "text": [
      "C:\\Users\\chonl\\anaconda3\\envs\\py39\\lib\\site-packages\\PIL\\TiffImagePlugin.py:890: UserWarning: Corrupt EXIF data.  Expecting to read 2 bytes but only got 0. \n",
      "  warnings.warn(str(msg))\n"
     ]
    },
    {
     "name": "stdout",
     "output_type": "stream",
     "text": [
      "336/470 [====================>.........] - ETA: 9:28 - loss: 0.4781 - accuracy: 0.8908"
     ]
    },
    {
     "name": "stderr",
     "output_type": "stream",
     "text": [
      "C:\\Users\\chonl\\anaconda3\\envs\\py39\\lib\\site-packages\\PIL\\Image.py:1000: UserWarning: Palette images with Transparency expressed in bytes should be converted to RGBA images\n",
      "  warnings.warn(\n"
     ]
    },
    {
     "name": "stdout",
     "output_type": "stream",
     "text": [
      "383/470 [=======================>......] - ETA: 6:05 - loss: 0.4786 - accuracy: 0.8904"
     ]
    },
    {
     "name": "stderr",
     "output_type": "stream",
     "text": [
      "C:\\Users\\chonl\\anaconda3\\envs\\py39\\lib\\site-packages\\PIL\\Image.py:1000: UserWarning: Palette images with Transparency expressed in bytes should be converted to RGBA images\n",
      "  warnings.warn(\n"
     ]
    },
    {
     "name": "stdout",
     "output_type": "stream",
     "text": [
      "470/470 [==============================] - ETA: 0s - loss: 0.4784 - accuracy: 0.8902"
     ]
    },
    {
     "name": "stderr",
     "output_type": "stream",
     "text": [
      "C:\\Users\\chonl\\anaconda3\\envs\\py39\\lib\\site-packages\\PIL\\Image.py:1000: UserWarning: Palette images with Transparency expressed in bytes should be converted to RGBA images\n",
      "  warnings.warn(\n"
     ]
    },
    {
     "name": "stdout",
     "output_type": "stream",
     "text": [
      "INFO:tensorflow:Assets written to: model/model_group_mobile_04\\ft10+5+5\\assets\n",
      "470/470 [==============================] - 2172s 5s/step - loss: 0.4784 - accuracy: 0.8902 - val_loss: 0.7166 - val_accuracy: 0.8267\n",
      "Epoch 5/5\n",
      "  6/470 [..............................] - ETA: 31:09 - loss: 0.4459 - accuracy: 0.8929"
     ]
    },
    {
     "name": "stderr",
     "output_type": "stream",
     "text": [
      "C:\\Users\\chonl\\anaconda3\\envs\\py39\\lib\\site-packages\\PIL\\TiffImagePlugin.py:890: UserWarning: Corrupt EXIF data.  Expecting to read 2 bytes but only got 0. \n",
      "  warnings.warn(str(msg))\n"
     ]
    },
    {
     "name": "stdout",
     "output_type": "stream",
     "text": [
      "328/470 [===================>..........] - ETA: 9:23 - loss: 0.4765 - accuracy: 0.8895"
     ]
    },
    {
     "name": "stderr",
     "output_type": "stream",
     "text": [
      "C:\\Users\\chonl\\anaconda3\\envs\\py39\\lib\\site-packages\\PIL\\Image.py:1000: UserWarning: Palette images with Transparency expressed in bytes should be converted to RGBA images\n",
      "  warnings.warn(\n"
     ]
    },
    {
     "name": "stdout",
     "output_type": "stream",
     "text": [
      "392/470 [========================>.....] - ETA: 5:11 - loss: 0.4731 - accuracy: 0.8905"
     ]
    },
    {
     "name": "stderr",
     "output_type": "stream",
     "text": [
      "C:\\Users\\chonl\\anaconda3\\envs\\py39\\lib\\site-packages\\PIL\\Image.py:1000: UserWarning: Palette images with Transparency expressed in bytes should be converted to RGBA images\n",
      "  warnings.warn(\n"
     ]
    },
    {
     "name": "stdout",
     "output_type": "stream",
     "text": [
      "470/470 [==============================] - ETA: 0s - loss: 0.4733 - accuracy: 0.8903"
     ]
    },
    {
     "name": "stderr",
     "output_type": "stream",
     "text": [
      "C:\\Users\\chonl\\anaconda3\\envs\\py39\\lib\\site-packages\\PIL\\Image.py:1000: UserWarning: Palette images with Transparency expressed in bytes should be converted to RGBA images\n",
      "  warnings.warn(\n"
     ]
    },
    {
     "name": "stdout",
     "output_type": "stream",
     "text": [
      "470/470 [==============================] - 2067s 4s/step - loss: 0.4733 - accuracy: 0.8903 - val_loss: 0.7176 - val_accuracy: 0.8246\n"
     ]
    },
    {
     "data": {
      "text/plain": [
       "<keras.callbacks.History at 0x232d48351f0>"
      ]
     },
     "execution_count": 32,
     "metadata": {},
     "output_type": "execute_result"
    }
   ],
   "source": [
    "model.fit(x=oversampled_train_generator,\n",
    "            steps_per_epoch=len(oversampled_train_generator),\n",
    "            validation_data=validation_generator,\n",
    "            validation_steps=len(validation_generator),\n",
    "            epochs=5,\n",
    "            verbose=1,\n",
    "            callbacks=callback\n",
    ")"
   ]
  },
  {
   "cell_type": "code",
   "execution_count": null,
   "metadata": {},
   "outputs": [],
   "source": [
    "# ft 15 epochs : loss: 0.5431 - accuracy: 0.8767 - val_loss: 0.7570 - val_accuracy: 0.8157\n",
    "# ft more 5 epochs end at 4 : loss: 0.4784 - accuracy: 0.8902 - val_loss: 0.7166 - val_accuracy: 0.8267"
   ]
  },
  {
   "cell_type": "code",
   "execution_count": 2,
   "metadata": {},
   "outputs": [],
   "source": [
    "# load the model\n",
    "model = tf.keras.models.load_model('model/model_group_mobile_04/ft10+5+4')"
   ]
  },
  {
   "cell_type": "code",
   "execution_count": null,
   "metadata": {
    "scrolled": true
   },
   "outputs": [],
   "source": [
    "# make predictions\n",
    "predictions = model.predict(x=test_generator, steps=len(test_generator), verbose=1)"
   ]
  },
  {
   "cell_type": "code",
   "execution_count": 7,
   "metadata": {
    "id": "ECiHr0m4RZhp",
    "outputId": "fd0075fc-7d54-45a6-b385-9928150bbb83"
   },
   "outputs": [
    {
     "name": "stdout",
     "output_type": "stream",
     "text": [
      "14/72 [====>.........................] - ETA: 1:43 - loss: 0.6630 - accuracy: 0.8471"
     ]
    },
    {
     "name": "stderr",
     "output_type": "stream",
     "text": [
      "C:\\Users\\chonl\\anaconda3\\envs\\py39\\lib\\site-packages\\PIL\\Image.py:1000: UserWarning: Palette images with Transparency expressed in bytes should be converted to RGBA images\n",
      "  warnings.warn(\n"
     ]
    },
    {
     "name": "stdout",
     "output_type": "stream",
     "text": [
      "72/72 [==============================] - 132s 2s/step - loss: 0.6596 - accuracy: 0.8330\n"
     ]
    }
   ],
   "source": [
    "# evaluate the model on test set\n",
    "results = model.evaluate(test_generator, verbose=1)"
   ]
  },
  {
   "cell_type": "code",
   "execution_count": 51,
   "metadata": {
    "id": "riS3GkdKfTcD",
    "outputId": "8d6ee6fc-94ba-4bd3-da1f-5c9abb4a2e76"
   },
   "outputs": [],
   "source": [
    "# make predictions and get true - predicted labels\n",
    "true_labels = []\n",
    "predicted_labels = []\n",
    "\n",
    "for i in range(len(test_generator)):\n",
    "    batch_data, batch_labels = test_generator[i]\n",
    "    true_labels.extend(batch_labels)\n",
    "    predicted_labels.extend(model.predict(batch_data))\n",
    "\n",
    "true_labels = np.array(true_labels)\n",
    "predicted_labels = np.array(predicted_labels)"
   ]
  },
  {
   "cell_type": "code",
   "execution_count": 52,
   "metadata": {
    "id": "HQjWFjLrfTcE"
   },
   "outputs": [],
   "source": [
    "# get the class(labels) no.\n",
    "true_labels_int = np.argmax(true_labels, axis=1)\n",
    "predicted_labels_int = np.argmax(predicted_labels, axis=1)"
   ]
  },
  {
   "cell_type": "code",
   "execution_count": 53,
   "metadata": {
    "id": "qiIr0l11fTcE",
    "outputId": "b927d6f2-b904-43b4-d7d6-87a06fedd5fc"
   },
   "outputs": [
    {
     "name": "stdout",
     "output_type": "stream",
     "text": [
      "[[ 9  0  0 ...  0  0  0]\n",
      " [ 0 11  0 ...  0  0  0]\n",
      " [ 0  0 10 ...  0  0  0]\n",
      " ...\n",
      " [ 0  0  0 ...  8  0  0]\n",
      " [ 0  0  0 ...  0  7  0]\n",
      " [ 0  0  0 ...  0  0  9]]\n"
     ]
    }
   ],
   "source": [
    "# confusion matrix\n",
    "conf_matrix = confusion_matrix(true_labels_int, predicted_labels_int)\n",
    "\n",
    "print(conf_matrix)"
   ]
  },
  {
   "cell_type": "code",
   "execution_count": 54,
   "metadata": {
    "id": "ldA0cI9QfTcE",
    "outputId": "03e9bdad-b15c-4b1f-e035-49ba41e641fa"
   },
   "outputs": [
    {
     "name": "stdout",
     "output_type": "stream",
     "text": [
      "Confusion matrix saved to model/model_eva_result/model_04/confusion_matrix04.csv\n"
     ]
    }
   ],
   "source": [
    "# save the confusion matrix as csv\n",
    "f = open('model/model_eva_result/model_04/confusion_matrix04.csv', 'w')\n",
    "np.savetxt(filename, conf_matrix, fmt='%d', delimiter=',')\n",
    "f.close()\n",
    "\n",
    "print(f\"Confusion matrix saved to {filename}\")"
   ]
  },
  {
   "cell_type": "code",
   "execution_count": 55,
   "metadata": {
    "id": "TtBtNLSzfTcE",
    "outputId": "20e10f90-bfda-4c96-87bc-d9a9f33902a8"
   },
   "outputs": [
    {
     "name": "stdout",
     "output_type": "stream",
     "text": [
      "              precision    recall  f1-score   support\n",
      "\n",
      "           0       0.69      1.00      0.82         9\n",
      "           1       0.92      1.00      0.96        11\n",
      "           2       0.59      0.91      0.71        11\n",
      "           3       0.56      0.90      0.69        10\n",
      "           4       1.00      0.92      0.96        12\n",
      "           5       0.89      0.80      0.84        10\n",
      "           6       0.71      1.00      0.83        10\n",
      "           7       0.83      0.83      0.83        12\n",
      "           8       0.91      0.83      0.87        12\n",
      "           9       0.92      1.00      0.96        12\n",
      "          10       0.92      1.00      0.96        12\n",
      "          11       1.00      0.78      0.88         9\n",
      "          12       0.80      0.80      0.80        10\n",
      "          13       0.62      0.56      0.59         9\n",
      "          14       0.43      0.43      0.43         7\n",
      "          15       0.73      0.80      0.76        10\n",
      "          16       0.86      0.55      0.67        11\n",
      "          17       1.00      1.00      1.00        10\n",
      "          18       0.80      0.80      0.80        10\n",
      "          19       0.78      0.88      0.82         8\n",
      "          20       1.00      1.00      1.00         9\n",
      "          21       0.78      0.70      0.74        10\n",
      "          22       1.00      0.60      0.75        10\n",
      "          23       1.00      1.00      1.00        10\n",
      "          24       0.86      0.60      0.71        10\n",
      "          25       0.36      0.36      0.36        11\n",
      "          26       0.80      0.89      0.84         9\n",
      "          27       0.75      0.82      0.78        11\n",
      "          28       0.80      0.73      0.76        11\n",
      "          29       1.00      0.80      0.89        10\n",
      "          30       0.55      0.60      0.57        10\n",
      "          31       0.89      0.80      0.84        10\n",
      "          32       0.75      0.82      0.78        11\n",
      "          33       0.86      0.67      0.75         9\n",
      "          34       1.00      0.67      0.80         6\n",
      "          35       0.92      1.00      0.96        11\n",
      "          36       0.78      0.88      0.82         8\n",
      "          37       0.78      0.70      0.74        10\n",
      "          38       1.00      1.00      1.00        11\n",
      "          39       0.77      0.91      0.83        11\n",
      "          40       0.55      0.60      0.57        10\n",
      "          41       0.44      0.44      0.44         9\n",
      "          42       1.00      0.92      0.96        12\n",
      "          43       0.75      0.82      0.78        11\n",
      "          44       0.77      0.83      0.80        12\n",
      "          45       0.73      0.80      0.76        10\n",
      "          46       1.00      1.00      1.00         9\n",
      "          47       1.00      0.71      0.83         7\n",
      "          48       1.00      0.88      0.93         8\n",
      "          49       0.91      1.00      0.95        10\n",
      "          50       0.75      0.67      0.71         9\n",
      "          51       1.00      0.83      0.91         6\n",
      "          52       0.90      0.90      0.90        10\n",
      "          53       0.86      0.60      0.71        10\n",
      "          54       1.00      0.90      0.95        10\n",
      "          55       0.90      0.82      0.86        11\n",
      "          56       0.50      0.44      0.47         9\n",
      "          57       0.82      0.82      0.82        11\n",
      "          58       0.75      0.82      0.78        11\n",
      "          59       0.80      0.80      0.80        10\n",
      "          60       0.73      1.00      0.84         8\n",
      "          61       1.00      1.00      1.00        10\n",
      "          62       0.50      0.50      0.50         8\n",
      "          63       0.83      0.91      0.87        11\n",
      "          64       1.00      1.00      1.00         5\n",
      "          65       0.91      1.00      0.95        10\n",
      "          66       0.80      1.00      0.89        12\n",
      "          67       0.82      0.82      0.82        11\n",
      "          68       1.00      0.75      0.86         8\n",
      "          69       0.89      1.00      0.94         8\n",
      "          70       1.00      0.91      0.95        11\n",
      "          71       1.00      1.00      1.00        11\n",
      "          72       0.89      0.89      0.89         9\n",
      "          73       1.00      1.00      1.00         8\n",
      "          74       0.70      0.70      0.70        10\n",
      "          75       0.62      0.89      0.73         9\n",
      "          76       0.83      0.83      0.83        12\n",
      "          77       0.90      0.90      0.90        10\n",
      "          78       0.80      0.36      0.50        11\n",
      "          79       0.86      0.75      0.80         8\n",
      "          80       0.77      0.91      0.83        11\n",
      "          81       0.61      1.00      0.76        11\n",
      "          82       0.89      1.00      0.94         8\n",
      "          83       0.80      0.80      0.80        10\n",
      "          84       0.80      1.00      0.89        12\n",
      "          85       0.91      1.00      0.95        10\n",
      "          86       1.00      1.00      1.00         9\n",
      "          87       1.00      0.57      0.73         7\n",
      "          88       1.00      1.00      1.00        10\n",
      "          89       1.00      0.91      0.95        11\n",
      "          90       0.57      1.00      0.73         4\n",
      "          91       0.90      0.90      0.90        10\n",
      "          92       1.00      1.00      1.00         9\n",
      "          93       0.86      0.86      0.86         7\n",
      "          94       0.90      0.90      0.90        10\n",
      "          95       0.89      0.80      0.84        10\n",
      "          96       1.00      1.00      1.00        11\n",
      "          97       1.00      1.00      1.00         9\n",
      "          98       1.00      1.00      1.00         6\n",
      "          99       1.00      1.00      1.00        10\n",
      "         100       1.00      1.00      1.00        10\n",
      "         101       1.00      0.80      0.89         5\n",
      "         102       0.67      0.75      0.71         8\n",
      "         103       0.82      0.90      0.86        10\n",
      "         104       0.75      0.50      0.60         6\n",
      "         105       0.88      0.88      0.88         8\n",
      "         106       0.77      0.91      0.83        11\n",
      "         107       1.00      0.50      0.67         6\n",
      "         108       1.00      1.00      1.00         6\n",
      "         109       0.89      0.89      0.89         9\n",
      "         110       0.92      0.92      0.92        12\n",
      "         111       1.00      1.00      1.00        12\n",
      "         112       1.00      1.00      1.00        10\n",
      "         113       1.00      1.00      1.00        10\n",
      "         114       1.00      1.00      1.00         9\n",
      "         115       1.00      1.00      1.00        11\n",
      "         116       1.00      0.67      0.80         9\n",
      "         117       1.00      1.00      1.00         9\n",
      "         118       1.00      1.00      1.00         8\n",
      "         119       1.00      0.80      0.89         5\n",
      "         120       1.00      1.00      1.00         9\n",
      "         121       0.90      1.00      0.95         9\n",
      "         122       1.00      1.00      1.00        11\n",
      "         123       1.00      0.88      0.93         8\n",
      "         124       1.00      1.00      1.00         9\n",
      "         125       1.00      0.83      0.91         6\n",
      "         126       1.00      1.00      1.00         8\n",
      "         127       1.00      0.80      0.89         5\n",
      "         128       0.50      0.25      0.33         4\n",
      "         129       1.00      1.00      1.00        11\n",
      "         130       1.00      0.83      0.91         6\n",
      "         131       0.80      0.44      0.57         9\n",
      "         132       1.00      1.00      1.00        11\n",
      "         133       1.00      0.62      0.77         8\n",
      "         134       0.82      0.82      0.82        11\n",
      "         135       1.00      0.75      0.86         4\n",
      "         136       1.00      0.75      0.86         4\n",
      "         137       1.00      1.00      1.00         3\n",
      "         138       1.00      1.00      1.00         7\n",
      "         139       1.00      1.00      1.00         4\n",
      "         140       1.00      0.89      0.94         9\n",
      "         141       0.85      1.00      0.92        11\n",
      "         142       1.00      0.71      0.83         7\n",
      "         143       0.00      0.00      0.00         4\n",
      "         144       0.88      0.88      0.88         8\n",
      "         145       1.00      0.50      0.67         2\n",
      "         146       0.90      1.00      0.95         9\n",
      "         147       1.00      0.90      0.95        10\n",
      "         148       0.33      0.25      0.29         4\n",
      "         149       1.00      1.00      1.00         7\n",
      "         150       0.90      1.00      0.95         9\n",
      "         151       0.83      1.00      0.91        10\n",
      "         152       0.90      1.00      0.95         9\n",
      "         153       1.00      0.40      0.57         5\n",
      "         154       1.00      0.33      0.50         3\n",
      "         155       0.60      0.86      0.71         7\n",
      "         156       0.33      0.33      0.33         6\n",
      "         157       0.88      1.00      0.93         7\n",
      "         158       0.75      0.50      0.60         6\n",
      "         159       0.62      0.83      0.71         6\n",
      "         160       0.75      0.75      0.75         8\n",
      "         161       1.00      1.00      1.00         7\n",
      "         162       1.00      0.80      0.89         5\n",
      "         163       0.90      0.90      0.90        10\n",
      "         164       0.50      0.50      0.50         4\n",
      "         165       0.80      0.80      0.80         5\n",
      "         166       0.86      0.60      0.71        10\n",
      "         167       1.00      1.00      1.00         5\n",
      "         168       0.80      0.67      0.73         6\n",
      "         169       0.00      0.00      0.00         3\n",
      "         170       0.83      0.83      0.83         6\n",
      "         171       1.00      0.86      0.92         7\n",
      "         172       0.89      0.89      0.89         9\n",
      "         173       0.83      1.00      0.91         5\n",
      "         174       1.00      1.00      1.00        10\n",
      "         175       0.86      0.75      0.80         8\n",
      "         176       1.00      0.33      0.50         3\n",
      "         177       0.90      1.00      0.95         9\n",
      "         178       0.62      0.56      0.59         9\n",
      "         179       1.00      0.90      0.95        10\n",
      "         180       0.82      1.00      0.90         9\n",
      "         181       0.75      0.75      0.75         8\n",
      "         182       0.62      0.62      0.62         8\n",
      "         183       1.00      0.90      0.95        10\n",
      "         184       0.75      0.60      0.67         5\n",
      "         185       1.00      1.00      1.00         3\n",
      "         186       0.75      0.90      0.82        10\n",
      "         187       0.67      0.67      0.67         6\n",
      "         188       0.64      0.78      0.70         9\n",
      "         189       0.80      0.80      0.80        10\n",
      "         190       0.78      0.78      0.78         9\n",
      "         191       0.64      0.78      0.70         9\n",
      "         192       1.00      0.90      0.95        10\n",
      "         193       0.67      0.89      0.76         9\n",
      "         194       0.60      0.67      0.63         9\n",
      "         195       0.88      0.78      0.82         9\n",
      "         196       1.00      1.00      1.00         3\n",
      "         197       0.70      1.00      0.82         7\n",
      "         198       0.67      0.67      0.67         3\n",
      "         199       1.00      1.00      1.00         6\n",
      "         200       0.85      1.00      0.92        11\n",
      "         201       1.00      0.75      0.86         4\n",
      "         202       0.75      0.67      0.71         9\n",
      "         203       0.50      0.44      0.47         9\n",
      "         204       1.00      0.88      0.93         8\n",
      "         205       0.67      0.50      0.57         8\n",
      "         206       0.64      0.64      0.64        11\n",
      "         207       0.78      0.70      0.74        10\n",
      "         208       1.00      0.50      0.67         8\n",
      "         209       0.77      1.00      0.87        10\n",
      "         210       0.86      0.86      0.86         7\n",
      "         211       1.00      0.88      0.93         8\n",
      "         212       0.91      1.00      0.95        10\n",
      "         213       1.00      1.00      1.00        10\n",
      "         214       0.86      0.86      0.86         7\n",
      "         215       1.00      0.83      0.91         6\n",
      "         216       1.00      1.00      1.00        10\n",
      "         217       1.00      0.78      0.88         9\n",
      "         218       1.00      0.75      0.86         4\n",
      "         219       0.62      0.80      0.70        10\n",
      "         220       0.83      0.83      0.83         6\n",
      "         221       0.50      0.62      0.56         8\n",
      "         222       1.00      0.71      0.83         7\n",
      "         223       0.70      0.78      0.74         9\n",
      "         224       0.00      0.00      0.00         4\n",
      "         225       0.80      0.89      0.84         9\n",
      "         226       1.00      1.00      1.00         4\n",
      "         227       0.78      0.78      0.78         9\n",
      "         228       0.88      0.78      0.82         9\n",
      "         229       1.00      0.83      0.91         6\n",
      "         230       0.70      0.88      0.78         8\n",
      "         231       0.40      0.40      0.40         5\n",
      "         232       0.89      0.89      0.89         9\n",
      "         233       1.00      1.00      1.00         4\n",
      "         234       0.80      1.00      0.89         4\n",
      "         235       0.78      0.70      0.74        10\n",
      "         236       0.71      0.83      0.77         6\n",
      "         237       1.00      1.00      1.00        11\n",
      "         238       0.91      1.00      0.95        10\n",
      "         239       0.75      0.86      0.80         7\n",
      "         240       0.45      0.62      0.53         8\n",
      "         241       0.20      0.14      0.17         7\n",
      "         242       0.78      0.88      0.82         8\n",
      "         243       0.00      0.00      0.00         3\n",
      "         244       0.67      0.57      0.62         7\n",
      "         245       1.00      1.00      1.00         9\n",
      "         246       0.69      0.82      0.75        11\n",
      "         247       1.00      1.00      1.00         7\n",
      "         248       1.00      0.88      0.93         8\n",
      "         249       0.83      1.00      0.91         5\n",
      "         250       1.00      1.00      1.00         9\n",
      "         251       1.00      0.78      0.88         9\n",
      "         252       0.75      0.82      0.78        11\n",
      "         253       1.00      1.00      1.00        11\n",
      "         254       0.80      1.00      0.89         8\n",
      "         255       1.00      0.71      0.83         7\n",
      "         256       0.82      0.82      0.82        11\n",
      "         257       0.70      0.78      0.74         9\n",
      "         258       0.75      0.60      0.67         5\n",
      "         259       0.60      0.86      0.71         7\n",
      "         260       0.86      0.75      0.80         8\n",
      "         261       0.89      0.80      0.84        10\n",
      "         262       1.00      0.50      0.67         2\n",
      "         263       0.90      0.90      0.90        10\n",
      "         264       0.89      0.89      0.89         9\n",
      "         265       0.90      1.00      0.95         9\n",
      "         266       0.90      1.00      0.95         9\n",
      "         267       1.00      0.80      0.89         5\n",
      "         268       1.00      1.00      1.00         9\n",
      "         269       0.67      0.50      0.57         4\n",
      "         270       0.90      1.00      0.95         9\n",
      "         271       0.40      0.67      0.50         6\n",
      "         272       0.90      1.00      0.95         9\n",
      "         273       0.77      1.00      0.87        10\n",
      "         274       0.78      0.78      0.78         9\n",
      "         275       0.71      0.83      0.77         6\n",
      "         276       0.83      1.00      0.91        10\n",
      "         277       1.00      0.83      0.91         6\n",
      "         278       0.92      0.92      0.92        12\n",
      "         279       1.00      1.00      1.00        10\n",
      "         280       0.80      0.80      0.80         5\n",
      "         281       1.00      0.80      0.89         5\n",
      "         282       1.00      1.00      1.00        11\n",
      "         283       1.00      0.90      0.95        10\n",
      "         284       1.00      1.00      1.00        11\n",
      "         285       0.60      0.75      0.67         4\n",
      "         286       1.00      0.86      0.92         7\n",
      "         287       0.80      0.80      0.80         5\n",
      "         288       1.00      0.89      0.94         9\n",
      "         289       0.50      0.50      0.50        10\n",
      "         290       1.00      1.00      1.00         3\n",
      "         291       0.75      1.00      0.86         3\n",
      "         292       0.80      0.80      0.80         5\n",
      "         293       0.80      1.00      0.89         8\n",
      "         294       0.67      0.67      0.67         3\n",
      "         295       0.86      0.86      0.86         7\n",
      "         296       1.00      0.86      0.92         7\n",
      "         297       0.69      1.00      0.82         9\n",
      "         298       0.82      0.90      0.86        10\n",
      "         299       1.00      0.67      0.80         3\n",
      "         300       0.64      0.70      0.67        10\n",
      "         301       1.00      0.75      0.86         8\n",
      "         302       0.90      0.90      0.90        10\n",
      "         303       0.71      0.83      0.77         6\n",
      "         304       1.00      1.00      1.00         9\n",
      "         305       0.50      0.33      0.40         3\n",
      "         306       1.00      1.00      1.00         8\n",
      "         307       1.00      1.00      1.00         9\n",
      "         308       0.67      0.89      0.76         9\n",
      "         309       0.80      0.80      0.80         5\n",
      "         310       1.00      1.00      1.00         7\n",
      "         311       0.80      0.80      0.80         5\n",
      "         312       0.67      0.57      0.62         7\n",
      "         313       1.00      0.50      0.67         2\n",
      "         314       1.00      1.00      1.00        10\n",
      "         315       0.75      0.60      0.67         5\n",
      "         316       0.60      0.60      0.60         5\n",
      "         317       0.86      0.86      0.86         7\n",
      "         318       0.89      1.00      0.94         8\n",
      "         319       1.00      0.60      0.75         5\n",
      "         320       1.00      1.00      1.00         9\n",
      "         321       0.75      1.00      0.86         3\n",
      "         322       1.00      0.75      0.86         8\n",
      "         323       0.67      0.86      0.75         7\n",
      "         324       0.58      0.64      0.61        11\n",
      "         325       1.00      0.67      0.80         6\n",
      "         326       0.82      0.75      0.78        12\n",
      "         327       0.90      1.00      0.95         9\n",
      "         328       1.00      0.90      0.95        10\n",
      "         329       0.73      0.89      0.80         9\n",
      "         330       0.88      1.00      0.93         7\n",
      "         331       0.67      0.83      0.74        12\n",
      "         332       0.90      1.00      0.95         9\n",
      "         333       0.83      1.00      0.91         5\n",
      "         334       0.89      0.89      0.89         9\n",
      "         335       0.90      0.90      0.90        10\n",
      "         336       1.00      1.00      1.00        10\n",
      "         337       1.00      1.00      1.00        10\n",
      "         338       1.00      0.86      0.92         7\n",
      "         339       0.80      0.67      0.73         6\n",
      "         340       0.78      0.78      0.78         9\n",
      "         341       1.00      0.90      0.95        10\n",
      "         342       0.55      0.86      0.67         7\n",
      "         343       0.78      0.88      0.82         8\n",
      "         344       1.00      0.80      0.89        10\n",
      "         345       0.90      1.00      0.95         9\n",
      "         346       0.50      0.25      0.33         4\n",
      "         347       0.67      0.44      0.53         9\n",
      "         348       0.89      1.00      0.94         8\n",
      "         349       0.00      0.00      0.00         2\n",
      "         350       0.83      0.71      0.77         7\n",
      "         351       1.00      0.25      0.40         4\n",
      "         352       0.73      0.80      0.76        10\n",
      "         353       0.80      0.80      0.80        10\n",
      "         354       0.78      0.88      0.82         8\n",
      "         355       0.88      0.78      0.82         9\n",
      "         356       0.91      0.91      0.91        11\n",
      "         357       1.00      1.00      1.00         9\n",
      "         358       0.92      1.00      0.96        11\n",
      "         359       1.00      0.91      0.95        11\n",
      "         360       1.00      1.00      1.00        11\n",
      "         361       1.00      1.00      1.00         6\n",
      "         362       0.92      1.00      0.96        11\n",
      "         363       1.00      1.00      1.00         9\n",
      "         364       1.00      0.80      0.89         5\n",
      "         365       0.00      0.00      0.00         2\n",
      "         366       1.00      1.00      1.00         8\n",
      "         367       0.89      0.89      0.89         9\n",
      "         368       1.00      0.62      0.77         8\n",
      "         369       0.78      0.78      0.78         9\n",
      "         370       0.67      0.29      0.40         7\n",
      "         371       1.00      1.00      1.00         7\n",
      "         372       1.00      1.00      1.00         6\n",
      "         373       0.75      0.86      0.80         7\n",
      "         374       1.00      1.00      1.00         7\n",
      "         375       0.75      0.90      0.82        10\n",
      "         376       1.00      0.88      0.93         8\n",
      "         377       0.83      0.83      0.83         6\n",
      "         378       1.00      1.00      1.00        10\n",
      "         379       1.00      0.50      0.67         2\n",
      "         380       0.62      0.50      0.56        10\n",
      "         381       0.62      0.91      0.74        11\n",
      "         382       0.67      0.60      0.63        10\n",
      "         383       0.80      0.67      0.73         6\n",
      "         384       0.80      0.50      0.62         8\n",
      "         385       0.71      1.00      0.83        10\n",
      "         386       0.86      0.86      0.86         7\n",
      "         387       1.00      0.71      0.83         7\n",
      "         388       0.86      0.86      0.86         7\n",
      "         389       0.89      0.89      0.89         9\n",
      "         390       0.89      0.89      0.89         9\n",
      "         391       0.91      1.00      0.95        10\n",
      "         392       0.82      1.00      0.90         9\n",
      "         393       0.91      1.00      0.95        10\n",
      "         394       0.92      1.00      0.96        11\n",
      "         395       0.88      0.78      0.82         9\n",
      "         396       1.00      1.00      1.00        10\n",
      "         397       0.82      0.82      0.82        11\n",
      "         398       1.00      1.00      1.00         6\n",
      "         399       1.00      1.00      1.00         8\n",
      "         400       0.89      0.80      0.84        10\n",
      "         401       1.00      0.88      0.93         8\n",
      "         402       0.60      0.43      0.50         7\n",
      "         403       1.00      0.83      0.91         6\n",
      "         404       0.89      0.80      0.84        10\n",
      "         405       0.80      1.00      0.89         8\n",
      "         406       0.60      0.67      0.63         9\n",
      "         407       0.80      0.67      0.73         6\n",
      "         408       0.70      1.00      0.82         7\n",
      "         409       0.50      0.50      0.50         4\n",
      "         410       0.00      0.00      0.00         3\n",
      "         411       0.78      0.88      0.82         8\n",
      "         412       1.00      1.00      1.00         9\n",
      "         413       0.71      0.83      0.77         6\n",
      "         414       1.00      0.50      0.67         4\n",
      "         415       1.00      0.88      0.93         8\n",
      "         416       0.88      0.70      0.78        10\n",
      "         417       0.67      0.33      0.44         6\n",
      "         418       0.56      0.71      0.62         7\n",
      "         419       0.75      0.43      0.55         7\n",
      "         420       0.38      0.60      0.46         5\n",
      "         421       1.00      0.67      0.80         6\n",
      "         422       0.80      0.80      0.80        10\n",
      "         423       0.75      0.50      0.60         6\n",
      "         424       0.62      1.00      0.77        10\n",
      "         425       1.00      0.67      0.80         9\n",
      "         426       0.64      0.70      0.67        10\n",
      "         427       0.90      1.00      0.95         9\n",
      "         428       0.92      0.92      0.92        12\n",
      "         429       0.83      1.00      0.91        10\n",
      "         430       1.00      0.86      0.92         7\n",
      "         431       0.70      0.88      0.78         8\n",
      "         432       1.00      1.00      1.00        10\n",
      "         433       0.00      0.00      0.00         2\n",
      "         434       0.80      0.80      0.80         5\n",
      "         435       1.00      0.50      0.67         2\n",
      "         436       1.00      0.67      0.80         3\n",
      "         437       1.00      1.00      1.00         9\n",
      "         438       0.00      0.00      0.00         3\n",
      "         439       0.56      0.71      0.62         7\n",
      "         440       0.00      0.00      0.00         2\n",
      "         441       0.80      0.89      0.84         9\n",
      "         442       0.75      0.90      0.82        10\n",
      "         443       0.17      0.25      0.20         8\n",
      "         444       0.83      1.00      0.91        10\n",
      "         445       0.86      0.60      0.71        10\n",
      "         446       1.00      1.00      1.00         8\n",
      "         447       0.70      0.88      0.78         8\n",
      "         448       1.00      0.90      0.95        10\n",
      "         449       0.50      0.20      0.29         5\n",
      "         450       0.00      0.00      0.00         1\n",
      "         451       1.00      1.00      1.00        12\n",
      "         452       0.86      0.75      0.80         8\n",
      "         453       1.00      0.86      0.92         7\n",
      "         454       0.80      0.89      0.84         9\n",
      "         455       0.82      0.82      0.82        11\n",
      "         456       0.65      1.00      0.79        11\n",
      "         457       0.92      1.00      0.96        11\n",
      "         458       0.88      0.88      0.88         8\n",
      "         459       0.90      0.82      0.86        11\n",
      "         460       0.90      0.82      0.86        11\n",
      "         461       1.00      1.00      1.00        11\n",
      "         462       1.00      1.00      1.00         9\n",
      "         463       0.92      1.00      0.96        12\n",
      "         464       1.00      0.86      0.92         7\n",
      "         465       0.85      0.92      0.88        12\n",
      "         466       0.64      0.78      0.70         9\n",
      "         467       0.53      0.80      0.64        10\n",
      "         468       0.75      0.90      0.82        10\n",
      "         469       0.90      1.00      0.95         9\n",
      "         470       1.00      0.89      0.94         9\n",
      "         471       1.00      1.00      1.00        10\n",
      "         472       0.71      0.62      0.67         8\n",
      "         473       0.82      1.00      0.90         9\n",
      "         474       0.50      0.30      0.38        10\n",
      "         475       0.75      0.30      0.43        10\n",
      "         476       0.38      0.45      0.42        11\n",
      "         477       0.67      0.80      0.73        10\n",
      "         478       0.78      1.00      0.88         7\n",
      "         479       1.00      0.75      0.86         8\n",
      "         480       1.00      0.88      0.93         8\n",
      "         481       0.82      1.00      0.90         9\n",
      "         482       0.73      0.89      0.80         9\n",
      "         483       0.83      1.00      0.91        10\n",
      "         484       0.88      0.88      0.88         8\n",
      "         485       1.00      0.80      0.89        10\n",
      "         486       0.91      1.00      0.95        10\n",
      "         487       0.90      0.90      0.90        10\n",
      "         488       0.85      1.00      0.92        11\n",
      "         489       0.88      0.78      0.82         9\n",
      "         490       0.82      0.90      0.86        10\n",
      "         491       0.88      0.70      0.78        10\n",
      "         492       1.00      0.78      0.88         9\n",
      "         493       0.75      0.60      0.67        10\n",
      "         494       1.00      0.80      0.89         5\n",
      "         495       1.00      1.00      1.00         9\n",
      "         496       0.82      0.90      0.86        10\n",
      "         497       0.82      0.82      0.82        11\n",
      "         498       1.00      1.00      1.00        10\n",
      "         499       0.40      0.18      0.25        11\n",
      "         500       0.85      1.00      0.92        11\n",
      "         501       0.53      0.67      0.59        12\n",
      "         502       1.00      1.00      1.00        10\n",
      "         503       0.86      0.67      0.75         9\n",
      "         504       0.70      0.78      0.74         9\n",
      "         505       0.90      0.90      0.90        10\n",
      "         506       1.00      1.00      1.00        10\n",
      "         507       0.78      0.70      0.74        10\n",
      "         508       0.47      0.67      0.55        12\n",
      "         509       0.90      0.82      0.86        11\n",
      "         510       0.71      0.71      0.71         7\n",
      "         511       0.89      0.89      0.89         9\n",
      "         512       0.86      0.75      0.80         8\n",
      "         513       0.67      0.67      0.67         6\n",
      "         514       0.83      0.71      0.77         7\n",
      "         515       0.65      0.92      0.76        12\n",
      "         516       0.89      0.89      0.89         9\n",
      "         517       0.86      0.86      0.86         7\n",
      "         518       1.00      0.89      0.94         9\n",
      "         519       0.90      1.00      0.95         9\n",
      "         520       0.88      0.58      0.70        12\n",
      "         521       0.45      0.62      0.53         8\n",
      "         522       0.33      0.33      0.33         6\n",
      "         523       1.00      0.88      0.93         8\n",
      "         524       0.88      0.88      0.88         8\n",
      "         525       0.82      0.75      0.78        12\n",
      "         526       0.80      0.89      0.84         9\n",
      "         527       0.64      0.82      0.72        11\n",
      "         528       1.00      0.25      0.40         4\n",
      "         529       0.50      0.33      0.40         3\n",
      "         530       0.89      1.00      0.94         8\n",
      "         531       1.00      0.67      0.80         6\n",
      "         532       0.77      0.91      0.83        11\n",
      "         533       1.00      1.00      1.00         9\n",
      "         534       0.64      0.90      0.75        10\n",
      "         535       1.00      1.00      1.00         8\n",
      "         536       0.67      0.80      0.73         5\n",
      "         537       0.92      1.00      0.96        12\n",
      "         538       0.60      0.75      0.67         4\n",
      "         539       0.83      1.00      0.91        10\n",
      "         540       1.00      0.90      0.95        10\n",
      "         541       0.92      1.00      0.96        11\n",
      "         542       0.88      0.78      0.82         9\n",
      "         543       0.67      0.67      0.67         3\n",
      "         544       0.89      0.89      0.89         9\n",
      "         545       0.91      0.91      0.91        11\n",
      "         546       1.00      0.89      0.94         9\n",
      "         547       0.88      0.70      0.78        10\n",
      "         548       1.00      0.90      0.95        10\n",
      "\n",
      "    accuracy                           0.83      4563\n",
      "   macro avg       0.83      0.81      0.81      4563\n",
      "weighted avg       0.84      0.83      0.83      4563\n",
      "\n"
     ]
    },
    {
     "name": "stderr",
     "output_type": "stream",
     "text": [
      "C:\\Users\\chonl\\anaconda3\\envs\\py39\\lib\\site-packages\\sklearn\\metrics\\_classification.py:1509: UndefinedMetricWarning: Precision is ill-defined and being set to 0.0 in labels with no predicted samples. Use `zero_division` parameter to control this behavior.\n",
      "  _warn_prf(average, modifier, f\"{metric.capitalize()} is\", len(result))\n",
      "C:\\Users\\chonl\\anaconda3\\envs\\py39\\lib\\site-packages\\sklearn\\metrics\\_classification.py:1509: UndefinedMetricWarning: Precision is ill-defined and being set to 0.0 in labels with no predicted samples. Use `zero_division` parameter to control this behavior.\n",
      "  _warn_prf(average, modifier, f\"{metric.capitalize()} is\", len(result))\n",
      "C:\\Users\\chonl\\anaconda3\\envs\\py39\\lib\\site-packages\\sklearn\\metrics\\_classification.py:1509: UndefinedMetricWarning: Precision is ill-defined and being set to 0.0 in labels with no predicted samples. Use `zero_division` parameter to control this behavior.\n",
      "  _warn_prf(average, modifier, f\"{metric.capitalize()} is\", len(result))\n"
     ]
    }
   ],
   "source": [
    "print(classification_report(true_labels_int,predicted_labels_int))"
   ]
  },
  {
   "cell_type": "code",
   "execution_count": 56,
   "metadata": {
    "id": "T7WbQlbpfTcE",
    "outputId": "0b49c8f6-99f2-452c-aace-36a26bd4034e"
   },
   "outputs": [
    {
     "name": "stderr",
     "output_type": "stream",
     "text": [
      "C:\\Users\\chonl\\anaconda3\\envs\\py39\\lib\\site-packages\\sklearn\\metrics\\_classification.py:1509: UndefinedMetricWarning: Precision is ill-defined and being set to 0.0 in labels with no predicted samples. Use `zero_division` parameter to control this behavior.\n",
      "  _warn_prf(average, modifier, f\"{metric.capitalize()} is\", len(result))\n",
      "C:\\Users\\chonl\\anaconda3\\envs\\py39\\lib\\site-packages\\sklearn\\metrics\\_classification.py:1509: UndefinedMetricWarning: Precision is ill-defined and being set to 0.0 in labels with no predicted samples. Use `zero_division` parameter to control this behavior.\n",
      "  _warn_prf(average, modifier, f\"{metric.capitalize()} is\", len(result))\n",
      "C:\\Users\\chonl\\anaconda3\\envs\\py39\\lib\\site-packages\\sklearn\\metrics\\_classification.py:1509: UndefinedMetricWarning: Precision is ill-defined and being set to 0.0 in labels with no predicted samples. Use `zero_division` parameter to control this behavior.\n",
      "  _warn_prf(average, modifier, f\"{metric.capitalize()} is\", len(result))\n"
     ]
    }
   ],
   "source": [
    "# save the classification report as txt\n",
    "f = open('model/model_eva_result/model_04/class_report04.txt', 'w')\n",
    "f.write(classification_report(true_labels_int,predicted_labels_int))\n",
    "f.close()"
   ]
  }
 ],
 "metadata": {
  "accelerator": "GPU",
  "colab": {
   "gpuType": "T4",
   "provenance": []
  },
  "kernelspec": {
   "display_name": "Python 3.9",
   "language": "python",
   "name": "myenv"
  },
  "language_info": {
   "codemirror_mode": {
    "name": "ipython",
    "version": 3
   },
   "file_extension": ".py",
   "mimetype": "text/x-python",
   "name": "python",
   "nbconvert_exporter": "python",
   "pygments_lexer": "ipython3",
   "version": "3.9.19"
  }
 },
 "nbformat": 4,
 "nbformat_minor": 4
}
